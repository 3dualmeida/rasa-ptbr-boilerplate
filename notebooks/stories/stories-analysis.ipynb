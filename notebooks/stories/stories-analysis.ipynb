{
 "cells": [
  {
   "cell_type": "markdown",
   "metadata": {
    "colab_type": "text",
    "id": "kO9wt2g3okLS"
   },
   "source": [
    "# Análise das Stories\n",
    "\n",
    "Notebook para o auxílio da análise das stories do chatbot."
   ]
  },
  {
   "cell_type": "markdown",
   "metadata": {},
   "source": [
    "### Configurando e Imports"
   ]
  },
  {
   "cell_type": "code",
   "execution_count": 1,
   "metadata": {},
   "outputs": [
    {
     "name": "stdout",
     "output_type": "stream",
     "text": [
      "Versões utilizadas neste jupyter notebook:\n",
      "rasa_nlu: 0.14.1 rasa_core: 0.13.1\n"
     ]
    }
   ],
   "source": [
    "import rasa_nlu\n",
    "import rasa_core\n",
    "from IPython.display import IFrame\n",
    "\n",
    "print(\"Versões utilizadas neste jupyter notebook:\")\n",
    "print(\"rasa_nlu: {} rasa_core: {}\".format(rasa_nlu.__version__, rasa_core.__version__))\n"
   ]
  },
  {
   "cell_type": "markdown",
   "metadata": {
    "colab_type": "text",
    "id": "tK5os3OinphP"
   },
   "source": [
    "## Análise e Avaliação das Stories"
   ]
  },
  {
   "cell_type": "markdown",
   "metadata": {
    "colab_type": "text",
    "id": "qWALQbCdwGxK"
   },
   "source": [
    "### Visualizaçõa do Fluxo de Conversa\n",
    "\n",
    "O comando abaixo monta um grafo com a relação das `intents` e `utters` do chatbot, ou seja, você vai conseguir visualizar o fluxo de conversa do seu chatbot.\n",
    "\n",
    "Esta visualização é importante para verificar possíveis problemas na estrutura do seu chatbot e se ele realmente chega em determinadas \"**falas**\" da conversa."
   ]
  },
  {
   "cell_type": "code",
   "execution_count": 2,
   "metadata": {},
   "outputs": [
    {
     "name": "stdout",
     "output_type": "stream",
     "text": [
      "/usr/local/lib/python3.6/site-packages/requests/__init__.py:91: RequestsDependencyWarning: urllib3 (1.25.1) or chardet (3.0.4) doesn't match a supported version!\n",
      "  RequestsDependencyWarning)\n",
      "2019-05-03 16:56:08 \u001b[1;30mINFO    \u001b[0m \u001b[34m__main__\u001b[0m  - Starting to visualize stories...\n",
      "Processed Story Blocks: 100%|███| 34/34 [00:00<00:00, 7531.76it/s, # trackers=1]\n",
      "2019-05-03 16:56:08 \u001b[1;30mINFO    \u001b[0m \u001b[34m__main__\u001b[0m  - Finished graph creation. Saved into file:///work/notebooks/stories/chat_graph.html\n"
     ]
    }
   ],
   "source": [
    "!python -m rasa_core.visualize -d $BOT_DOMAIN_PATH -s $BOT_STORIES_PATH -o chat_graph.html"
   ]
  },
  {
   "cell_type": "markdown",
   "metadata": {},
   "source": [
    "O Rasa gerou uma página `html` com o grafo de conversa, para facilitar, você pode visualizar o grafo no arquivo `chat_graph.html` aqui na próxima celula.\n",
    "\n",
    "Use o mouse para dar zoom e arrastar sobre o conteúdo do grafo. Altere `width` e `height` se desejar.\n",
    "\n",
    "* Dica: caso você se perca com **zoom in** ou **zoom out** no grafo, apeas re-execute a célula abaixo e ele irá reaparecer na célula."
   ]
  },
  {
   "cell_type": "code",
   "execution_count": 3,
   "metadata": {},
   "outputs": [
    {
     "data": {
      "text/html": [
       "\n",
       "        <iframe\n",
       "            width=\"900\"\n",
       "            height=\"700\"\n",
       "            src=\"./chat_graph.html\"\n",
       "            frameborder=\"0\"\n",
       "            allowfullscreen\n",
       "        ></iframe>\n",
       "        "
      ],
      "text/plain": [
       "<IPython.lib.display.IFrame at 0x7f5031034470>"
      ]
     },
     "execution_count": 3,
     "metadata": {},
     "output_type": "execute_result"
    }
   ],
   "source": [
    "IFrame(src='./chat_graph.html', width=900, height=700)"
   ]
  },
  {
   "cell_type": "markdown",
   "metadata": {},
   "source": [
    "### Avaliação das Stories\n",
    "\n",
    "Outra forma de analisar seu chatbot é por meio da própria avaliação do Rasa, ele gera uma matriz de confuzão com os dados fornecidos nas `stories` e do resultado do treinamento armazenado na pasta `models`."
   ]
  },
  {
   "cell_type": "markdown",
   "metadata": {},
   "source": [
    "* Caso você ainda não tenha treinado seu chatbot execute a céclula abaixo para treina-lo."
   ]
  },
  {
   "cell_type": "code",
   "execution_count": 4,
   "metadata": {},
   "outputs": [
    {
     "name": "stdout",
     "output_type": "stream",
     "text": [
      "make: Entering directory '/work/bot'\n",
      "python3 -m rasa_nlu.train -c nlu_config.yml --fixed_model_name current \\\n",
      "  --data data/intents/ -o models --project nlu --verbose\n",
      "/usr/local/lib/python3.6/site-packages/requests/__init__.py:91: RequestsDependencyWarning: urllib3 (1.25.1) or chardet (3.0.4) doesn't match a supported version!\n",
      "  RequestsDependencyWarning)\n",
      "2019-05-03 16:56:11 \u001b[1;30mINFO    \u001b[0m \u001b[34mrasa_nlu.training_data.loading\u001b[0m  - Training data format of data/intents/aleatorio.md is md\n",
      "2019-05-03 16:56:11 \u001b[1;30mINFO    \u001b[0m \u001b[34mrasa_nlu.training_data.training_data\u001b[0m  - Training data stats: \n",
      "\t- intent examples: 197 (24 distinct intents)\n",
      "\t- Found intents: 'como_estou', 'piada', 'license', 'cor', 'me', 'bff', 'filhos', 'esporte', 'risada', 'hobby', 'relationship', 'linguagens', 'onde_voce_mora', 'filme', 'time', 'historia', 'signo', 'playlist', 'de_onde_voce_eh', 'triste', 'star_wars', 'genero', 'religiao', 'comida'\n",
      "\t- entity examples: 172 (22 distinct entities)\n",
      "\t- found entities: 'license', 'piada', 'live', 'relationship', 'linguagens', 'historia', 'triste', 'cor', 'me', 'bff', 'filhos', 'starwars', 'esporte', 'hobby', 'filme', 'signo', 'playlist', 'where', 'how', 'genero', 'religiao', 'comida'\n",
      "\n",
      "2019-05-03 16:56:11 \u001b[1;30mINFO    \u001b[0m \u001b[34mrasa_nlu.training_data.loading\u001b[0m  - Training data format of data/intents/actions.md is md\n",
      "2019-05-03 16:56:11 \u001b[1;30mINFO    \u001b[0m \u001b[34mrasa_nlu.training_data.training_data\u001b[0m  - Training data stats: \n",
      "\t- intent examples: 6 (1 distinct intents)\n",
      "\t- Found intents: 'action_test'\n",
      "\t- entity examples: 0 (0 distinct entities)\n",
      "\t- found entities: \n",
      "\n",
      "2019-05-03 16:56:11 \u001b[1;30mINFO    \u001b[0m \u001b[34mrasa_nlu.training_data.loading\u001b[0m  - Training data format of data/intents/geral.md is md\n",
      "2019-05-03 16:56:11 \u001b[1;30mINFO    \u001b[0m \u001b[34mrasa_nlu.training_data.training_data\u001b[0m  - Training data stats: \n",
      "\t- intent examples: 85 (7 distinct intents)\n",
      "\t- Found intents: 'tudo_bem', 'negar', 'elogios', 'despedir', 'cumprimentar', 'out_of_scope', 'diga_mais'\n",
      "\t- entity examples: 0 (0 distinct entities)\n",
      "\t- found entities: \n",
      "\n",
      "2019-05-03 16:56:11 \u001b[1;30mINFO    \u001b[0m \u001b[34mrasa_nlu.training_data.training_data\u001b[0m  - Training data stats: \n",
      "\t- intent examples: 288 (32 distinct intents)\n",
      "\t- Found intents: 'piada', 'license', 'negar', 'risada', 'relationship', 'linguagens', 'onde_voce_mora', 'time', 'historia', 'triste', 'despedir', 'como_estou', 'cor', 'out_of_scope', 'me', 'bff', 'filhos', 'esporte', 'hobby', 'action_test', 'cumprimentar', 'filme', 'diga_mais', 'tudo_bem', 'signo', 'playlist', 'de_onde_voce_eh', 'elogios', 'star_wars', 'genero', 'religiao', 'comida'\n",
      "\t- entity examples: 172 (22 distinct entities)\n",
      "\t- found entities: 'license', 'piada', 'live', 'relationship', 'linguagens', 'historia', 'triste', 'cor', 'me', 'bff', 'filhos', 'starwars', 'esporte', 'hobby', 'filme', 'signo', 'playlist', 'where', 'how', 'genero', 'religiao', 'comida'\n",
      "\n",
      "2019-05-03 16:56:11 \u001b[1;30mINFO    \u001b[0m \u001b[34mrasa_nlu.model\u001b[0m  - Starting to train component tokenizer_whitespace\n",
      "2019-05-03 16:56:11 \u001b[1;30mINFO    \u001b[0m \u001b[34mrasa_nlu.model\u001b[0m  - Finished training component.\n",
      "2019-05-03 16:56:11 \u001b[1;30mINFO    \u001b[0m \u001b[34mrasa_nlu.model\u001b[0m  - Starting to train component ner_crf\n",
      "2019-05-03 16:56:11 \u001b[1;30mINFO    \u001b[0m \u001b[34mrasa_nlu.model\u001b[0m  - Finished training component.\n",
      "2019-05-03 16:56:11 \u001b[1;30mINFO    \u001b[0m \u001b[34mrasa_nlu.model\u001b[0m  - Starting to train component ner_synonyms\n",
      "2019-05-03 16:56:11 \u001b[1;30mINFO    \u001b[0m \u001b[34mrasa_nlu.model\u001b[0m  - Finished training component.\n",
      "2019-05-03 16:56:11 \u001b[1;30mINFO    \u001b[0m \u001b[34mrasa_nlu.model\u001b[0m  - Starting to train component intent_featurizer_count_vectors\n",
      "2019-05-03 16:56:12 \u001b[1;30mINFO    \u001b[0m \u001b[34mrasa_nlu.model\u001b[0m  - Finished training component.\n",
      "2019-05-03 16:56:12 \u001b[1;30mINFO    \u001b[0m \u001b[34mrasa_nlu.model\u001b[0m  - Starting to train component intent_classifier_tensorflow_embedding\n",
      "2019-05-03 16:56:16.183817: I tensorflow/core/platform/cpu_feature_guard.cc:141] Your CPU supports instructions that this TensorFlow binary was not compiled to use: AVX2 FMA\n",
      "2019-05-03 16:56:16 \u001b[1;30mINFO    \u001b[0m \u001b[34mrasa_nlu.classifiers.embedding_intent_classifier\u001b[0m  - Accuracy is updated every 10 epochs\n",
      "Epochs: 100%|██████████| 300/300 [00:08<00:00, 41.87it/s, loss=0.100, acc=0.993]\n",
      "2019-05-03 16:56:24 \u001b[1;30mINFO    \u001b[0m \u001b[34mrasa_nlu.classifiers.embedding_intent_classifier\u001b[0m  - Finished training embedding classifier, loss=0.100, train accuracy=0.993\n",
      "2019-05-03 16:56:24 \u001b[1;30mINFO    \u001b[0m \u001b[34mrasa_nlu.model\u001b[0m  - Finished training component.\n",
      "2019-05-03 16:56:24 \u001b[1;30mINFO    \u001b[0m \u001b[34mrasa_nlu.model\u001b[0m  - Successfully saved model into '/work/bot/models/nlu/current'\n",
      "2019-05-03 16:56:24 \u001b[1;30mINFO    \u001b[0m \u001b[34m__main__\u001b[0m  - Finished training\n",
      "python3 train.py\n",
      "/usr/local/lib/python3.6/site-packages/requests/__init__.py:91: RequestsDependencyWarning: urllib3 (1.25.1) or chardet (3.0.4) doesn't match a supported version!\n",
      "  RequestsDependencyWarning)\n",
      "/work/bot/validator.py:98: YAMLLoadWarning: calling yaml.load() without Loader=... is deprecated, as the default Loader is unsafe. Please read https://msg.pyyaml.org/load for full details.\n",
      "  validate(yaml.load(domain_file), yaml.load(schema))\n",
      "2019-05-03 16:56:26 \u001b[1;30mINFO    \u001b[0m \u001b[34mvalidator\u001b[0m  - Domain verified\n",
      "2019-05-03 16:56:26 \u001b[1;30mERROR   \u001b[0m \u001b[34mvalidator\u001b[0m  - \u001b[31mThe utter action_test is used in the stories story file data/stories/actions.md (line: 5) but it's not a valid utter.\u001b[0m\n",
      "2019-05-03 16:56:33 \u001b[1;30mDEBUG   \u001b[0m \u001b[34mrasa_core.training.generator\u001b[0m  - Number of augmentation rounds is 3\n",
      "2019-05-03 16:56:33 \u001b[1;30mDEBUG   \u001b[0m \u001b[34mrasa_core.training.generator\u001b[0m  - Starting data generation round 0 ... (with 1 trackers)\n",
      "Processed Story Blocks: 100%|███| 34/34 [00:00<00:00, 7512.71it/s, # trackers=1]\n",
      "2019-05-03 16:56:33 \u001b[1;30mDEBUG   \u001b[0m \u001b[34mrasa_core.training.generator\u001b[0m  - Finished phase (34 training samples found).\n",
      "2019-05-03 16:56:33 \u001b[1;30mDEBUG   \u001b[0m \u001b[34mrasa_core.training.generator\u001b[0m  - Data generation rounds finished.\n",
      "2019-05-03 16:56:33 \u001b[1;30mDEBUG   \u001b[0m \u001b[34mrasa_core.training.generator\u001b[0m  - Found 0 unused checkpoints\n",
      "2019-05-03 16:56:33 \u001b[1;30mDEBUG   \u001b[0m \u001b[34mrasa_core.training.generator\u001b[0m  - Starting augmentation round 0 ... (with 20 trackers)\n",
      "Processed Story Blocks: 100%|███| 34/34 [00:00<00:00, 603.04it/s, # trackers=20]\n",
      "2019-05-03 16:56:33 \u001b[1;30mDEBUG   \u001b[0m \u001b[34mrasa_core.training.generator\u001b[0m  - Finished phase (711 training samples found).\n",
      "2019-05-03 16:56:33 \u001b[1;30mDEBUG   \u001b[0m \u001b[34mrasa_core.training.generator\u001b[0m  - Starting augmentation round 1 ... (with 20 trackers)\n",
      "Processed Story Blocks: 100%|███| 34/34 [00:00<00:00, 342.36it/s, # trackers=20]\n",
      "2019-05-03 16:56:33 \u001b[1;30mDEBUG   \u001b[0m \u001b[34mrasa_core.training.generator\u001b[0m  - Finished phase (1391 training samples found).\n",
      "2019-05-03 16:56:33 \u001b[1;30mDEBUG   \u001b[0m \u001b[34mrasa_core.training.generator\u001b[0m  - Starting augmentation round 2 ... (with 20 trackers)\n",
      "Processed Story Blocks: 100%|███| 34/34 [00:00<00:00, 313.11it/s, # trackers=20]\n",
      "2019-05-03 16:56:33 \u001b[1;30mDEBUG   \u001b[0m \u001b[34mrasa_core.training.generator\u001b[0m  - Finished phase (2034 training samples found).\n",
      "2019-05-03 16:56:33 \u001b[1;30mDEBUG   \u001b[0m \u001b[34mrasa_core.training.generator\u001b[0m  - Found 2034 training trackers.\n",
      "2019-05-03 16:56:33 \u001b[1;30mDEBUG   \u001b[0m \u001b[34mrasa_core.agent\u001b[0m  - Agent trainer got kwargs: {'validation_split': 0.2}\n",
      "2019-05-03 16:56:33 \u001b[1;30mDEBUG   \u001b[0m \u001b[34mrasa_core.featurizers\u001b[0m  - Creating states and action examples from collected trackers (by FullDialogueTrackerFeaturizer(LabelTokenizerSingleStateFeaturizer))...\n",
      "Processed trackers: 100%|████████████████| 2034/2034 [00:00<00:00, 37702.86it/s]\n",
      "2019-05-03 16:56:33 \u001b[1;30mDEBUG   \u001b[0m \u001b[34mrasa_core.featurizers\u001b[0m  - The longest dialogue has 13 actions.\n",
      "2019-05-03 16:56:33.823579: I tensorflow/core/platform/cpu_feature_guard.cc:141] Your CPU supports instructions that this TensorFlow binary was not compiled to use: AVX2 FMA\n",
      "_________________________________________________________________\n",
      "Layer (type)                 Output Shape              Param #   \n",
      "=================================================================\n",
      "masking (Masking)            (None, None, 98)          0         \n",
      "_________________________________________________________________\n",
      "lstm (LSTM)                  (None, None, 32)          16768     \n",
      "_________________________________________________________________\n",
      "time_distributed (TimeDistri (None, None, 38)          1254      \n",
      "_________________________________________________________________\n",
      "activation (Activation)      (None, None, 38)          0         \n",
      "=================================================================\n",
      "Total params: 18,022\n",
      "Trainable params: 18,022\n",
      "Non-trainable params: 0\n",
      "_________________________________________________________________\n",
      "2019-05-03 16:56:34 \u001b[1;30mDEBUG   \u001b[0m \u001b[34mrasa_core.policies.keras_policy\u001b[0m  - None\n",
      "2019-05-03 16:56:34 \u001b[1;30mINFO    \u001b[0m \u001b[34mrasa_core.policies.keras_policy\u001b[0m  - Fitting model with 2034 total samples and a validation split of 0.1\n",
      "2019-05-03 16:56:34 \u001b[1;30mDEBUG   \u001b[0m \u001b[34mrasa_core.policies.policy\u001b[0m  - Parameters ignored by `model.fit(...)`: {}\n"
     ]
    },
    {
     "name": "stdout",
     "output_type": "stream",
     "text": [
      "Epoch 1/8\n",
      "2034/2034 [==============================] - 2s 1ms/step - loss: 2.5072 - acc: 0.5529\n",
      "Epoch 2/8\n",
      "2034/2034 [==============================] - 2s 940us/step - loss: 1.5712 - acc: 0.6543\n",
      "Epoch 3/8\n",
      "2034/2034 [==============================] - 2s 931us/step - loss: 1.0025 - acc: 0.7822\n",
      "Epoch 4/8\n",
      "2034/2034 [==============================] - 2s 746us/step - loss: 0.5209 - acc: 0.9162\n",
      "Epoch 5/8\n",
      "2034/2034 [==============================] - 2s 976us/step - loss: 0.2789 - acc: 0.9562\n",
      "Epoch 6/8\n",
      "2034/2034 [==============================] - 2s 883us/step - loss: 0.1835 - acc: 0.9665\n",
      "Epoch 7/8\n",
      "2034/2034 [==============================] - 1s 723us/step - loss: 0.1304 - acc: 0.9756\n",
      "Epoch 8/8\n",
      "2034/2034 [==============================] - 2s 894us/step - loss: 0.1050 - acc: 0.9809\n",
      "2019-05-03 16:56:49 \u001b[1;30mINFO    \u001b[0m \u001b[34mrasa_core.policies.keras_policy\u001b[0m  - Done fitting keras policy model\n",
      "2019-05-03 16:56:49 \u001b[1;30mDEBUG   \u001b[0m \u001b[34mrasa_core.featurizers\u001b[0m  - Creating states and action examples from collected trackers (by MaxHistoryTrackerFeaturizer(SingleStateFeaturizer))...\n",
      "Processed trackers: 100%|██| 2034/2034 [00:01<00:00, 1580.58it/s, # actions=871]00:00<00:00, 1657.54it/s, # actions=735]\n",
      "2019-05-03 16:56:51 \u001b[1;30mDEBUG   \u001b[0m \u001b[34mrasa_core.featurizers\u001b[0m  - Created 871 action examples.\n",
      "Processed actions: 871it [00:00, 9217.44it/s, # examples=871]\n",
      "2019-05-03 16:56:51 \u001b[1;30mDEBUG   \u001b[0m \u001b[34mrasa_core.policies.memoization\u001b[0m  - Memorized 871 unique examples.\n",
      "2019-05-03 16:56:51 \u001b[1;30mINFO    \u001b[0m \u001b[34mrasa_core.agent\u001b[0m  - Model directory models/dialogue exists and contains old model files. All files will be overwritten.\n",
      "2019-05-03 16:56:52 \u001b[1;30mINFO    \u001b[0m \u001b[34mrasa_core.agent\u001b[0m  - Persisted model to '/work/bot/models/dialogue'\n",
      "make: Leaving directory '/work/bot'\n"
     ]
    }
   ],
   "source": [
    "!make train -C $BOT_DIR_PATH"
   ]
  },
  {
   "cell_type": "markdown",
   "metadata": {},
   "source": [
    "* `rasa_core.evaluate` é o método utilizado para verificar a qualidade das suas `stories`."
   ]
  },
  {
   "cell_type": "code",
   "execution_count": null,
   "metadata": {
    "scrolled": true
   },
   "outputs": [
    {
     "name": "stdout",
     "output_type": "stream",
     "text": [
      "/usr/local/lib/python3.6/site-packages/requests/__init__.py:91: RequestsDependencyWarning: urllib3 (1.25.1) or chardet (3.0.4) doesn't match a supported version!\n",
      "  RequestsDependencyWarning)\n",
      "2019-05-03 16:57:01.773529: I tensorflow/core/platform/cpu_feature_guard.cc:141] Your CPU supports instructions that this TensorFlow binary was not compiled to use: AVX2 FMA\n"
     ]
    }
   ],
   "source": [
    "!python -m rasa_core.evaluate --core $BOT_DIR_PATH'models/dialogue' -s $BOT_STORIES_PATH -o results"
   ]
  },
  {
   "cell_type": "markdown",
   "metadata": {},
   "source": [
    "* Caso algum problme seja encotrado ele será descrito no arquivo `failed_stories.md`"
   ]
  },
  {
   "cell_type": "code",
   "execution_count": null,
   "metadata": {},
   "outputs": [],
   "source": [
    "!cat results/failed_stories.md"
   ]
  },
  {
   "cell_type": "markdown",
   "metadata": {},
   "source": [
    "* Se tudo estiver correto você deverá ver a mensagem:\n",
    "\n",
    "`<!-- All stories passed -->`"
   ]
  },
  {
   "cell_type": "markdown",
   "metadata": {},
   "source": [
    "* Outro arquivo gerado é  o `story_confmat.pdf` uma matriz de confuzão onde é possível visualizar a relação entre as `stories`."
   ]
  },
  {
   "cell_type": "code",
   "execution_count": null,
   "metadata": {},
   "outputs": [],
   "source": [
    "from IPython.display import IFrame\n",
    "IFrame(\"results/story_confmat.pdf\", width=900, height=900)"
   ]
  },
  {
   "cell_type": "markdown",
   "metadata": {},
   "source": [
    "## Referências:\n",
    "\n",
    "O Rasa está em constante evolução, alguns links úteis para a construção deste jupyter-notebook e para a análise das `stories` são:\n",
    "\n",
    "* [Evaluation](https://rasa.com/docs/core/evaluation/)\n",
    "* [Debugging](https://rasa.com/docs/core/debugging/)"
   ]
  },
  {
   "cell_type": "code",
   "execution_count": null,
   "metadata": {},
   "outputs": [],
   "source": []
  }
 ],
 "metadata": {
  "colab": {
   "collapsed_sections": [
    "y4miuS-TqYcn",
    "BBF6Nqi9scQE",
    "Fs3nOUzBsqrG",
    "5MnGuFRpzzBh"
   ],
   "default_view": {},
   "name": "Building a Simple Bot with Rasa Stack - Tutorial",
   "provenance": [
    {
     "file_id": "1GutDkDXmfU-nRzNH7Pxxx8YpdvLUw9LO",
     "timestamp": 1521183725373
    }
   ],
   "toc_visible": true,
   "version": "0.3.2",
   "views": {}
  },
  "kernelspec": {
   "display_name": "Python 3",
   "language": "python",
   "name": "python3"
  },
  "language_info": {
   "codemirror_mode": {
    "name": "ipython",
    "version": 3
   },
   "file_extension": ".py",
   "mimetype": "text/x-python",
   "name": "python",
   "nbconvert_exporter": "python",
   "pygments_lexer": "ipython3",
   "version": "3.6.8"
  }
 },
 "nbformat": 4,
 "nbformat_minor": 1
}

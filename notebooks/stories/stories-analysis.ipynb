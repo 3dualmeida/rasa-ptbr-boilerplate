{
 "cells": [
  {
   "cell_type": "markdown",
   "metadata": {
    "colab_type": "text",
    "id": "kO9wt2g3okLS"
   },
   "source": [
    "# Análise das Stories\n",
    "\n",
    "Notebook para o auxílio da análise das stories do chatbot."
   ]
  },
  {
   "cell_type": "markdown",
   "metadata": {},
   "source": [
    "### Configurando e Imports"
   ]
  },
  {
   "cell_type": "code",
   "execution_count": 1,
   "metadata": {},
   "outputs": [
    {
     "name": "stdout",
     "output_type": "stream",
     "text": [
      "Versões utilizadas neste jupyter notebook:\n",
      "rasa_nlu: 0.15.0 rasa_core: 0.14.1\n"
     ]
    }
   ],
   "source": [
    "import rasa_nlu\n",
    "import rasa_core\n",
    "from IPython.display import IFrame\n",
    "\n",
    "print(\"Versões utilizadas neste jupyter notebook:\")\n",
    "print(\"rasa_nlu: {} rasa_core: {}\".format(rasa_nlu.__version__, rasa_core.__version__))\n"
   ]
  },
  {
   "cell_type": "markdown",
   "metadata": {
    "colab_type": "text",
    "id": "tK5os3OinphP"
   },
   "source": [
    "## Análise e Avaliação das Stories"
   ]
  },
  {
   "cell_type": "markdown",
   "metadata": {
    "colab_type": "text",
    "id": "qWALQbCdwGxK"
   },
   "source": [
    "### Visualizaçõa do Fluxo de Conversa\n",
    "\n",
    "O comando abaixo monta um grafo com a relação das `intents` e `utters` do chatbot, ou seja, você vai conseguir visualizar o fluxo de conversa do seu chatbot.\n",
    "\n",
    "Esta visualização é importante para verificar possíveis problemas na estrutura do seu chatbot e se ele realmente chega em determinadas \"**falas**\" da conversa."
   ]
  },
  {
   "cell_type": "code",
   "execution_count": 2,
   "metadata": {},
   "outputs": [
    {
     "name": "stdout",
     "output_type": "stream",
     "text": [
      "/usr/local/lib/python3.6/runpy.py:125: RuntimeWarning: 'rasa_core.visualize' found in sys.modules after import of package 'rasa_core', but prior to execution of 'rasa_core.visualize'; this may result in unpredictable behaviour\n",
      "  warn(RuntimeWarning(msg))\n",
      "2019-07-17 16:33:49 \u001b[1;30mINFO    \u001b[0m \u001b[34mapscheduler.scheduler\u001b[0m  - Scheduler started\n",
      "\n",
      "WARNING: The TensorFlow contrib module will not be included in TensorFlow 2.0.\n",
      "For more information, please see:\n",
      "  * https://github.com/tensorflow/community/blob/master/rfcs/20180907-contrib-sunset.md\n",
      "  * https://github.com/tensorflow/addons\n",
      "If you depend on functionality not listed there, please file an issue.\n",
      "\n",
      "2019-07-17 16:33:50 \u001b[1;30mINFO    \u001b[0m \u001b[34m__main__\u001b[0m  - Starting to visualize stories...\n",
      "Processed Story Blocks: 100%|███| 34/34 [00:00<00:00, 3467.21it/s, # trackers=1]\n",
      "2019-07-17 16:33:51 \u001b[1;30mINFO    \u001b[0m \u001b[34m__main__\u001b[0m  - Finished graph creation. Saved into file:///work/notebooks/stories/chat_graph.html\n"
     ]
    }
   ],
   "source": [
    "!python -m rasa_core.visualize -d $COACH_DOMAIN_PATH -s $COACH_STORIES_PATH -o chat_graph.html"
   ]
  },
  {
   "cell_type": "markdown",
   "metadata": {},
   "source": [
    "O Rasa gerou uma página `html` com o grafo de conversa, para facilitar, você pode visualizar o grafo no arquivo `chat_graph.html` aqui na próxima celula.\n",
    "\n",
    "Use o mouse para dar zoom e arrastar sobre o conteúdo do grafo. Altere `width` e `height` se desejar.\n",
    "\n",
    "* Dica: caso você se perca com **zoom in** ou **zoom out** no grafo, apeas re-execute a célula abaixo e ele irá reaparecer na célula."
   ]
  },
  {
   "cell_type": "code",
   "execution_count": 3,
   "metadata": {},
   "outputs": [
    {
     "data": {
      "text/html": [
       "\n",
       "        <iframe\n",
       "            width=\"900\"\n",
       "            height=\"700\"\n",
       "            src=\"./chat_graph.html\"\n",
       "            frameborder=\"0\"\n",
       "            allowfullscreen\n",
       "        ></iframe>\n",
       "        "
      ],
      "text/plain": [
       "<IPython.lib.display.IFrame at 0x7f9d7c23d550>"
      ]
     },
     "execution_count": 3,
     "metadata": {},
     "output_type": "execute_result"
    }
   ],
   "source": [
    "IFrame(src='./chat_graph.html', width=900, height=700)"
   ]
  },
  {
   "cell_type": "markdown",
   "metadata": {},
   "source": [
    "### Avaliação das Stories\n",
    "\n",
    "Outra forma de analisar seu chatbot é por meio da própria avaliação do Rasa, ele gera uma matriz de confuzão com os dados fornecidos nas `stories` e do resultado do treinamento armazenado na pasta `models`."
   ]
  },
  {
   "cell_type": "markdown",
   "metadata": {},
   "source": [
    "* Caso você ainda não tenha treinado seu chatbot execute a céclula abaixo para treina-lo."
   ]
  },
  {
   "cell_type": "code",
   "execution_count": 4,
   "metadata": {},
   "outputs": [
    {
     "name": "stdout",
     "output_type": "stream",
     "text": [
      "make: Entering directory '/work/coach'\n",
      "python3 -m rasa_nlu.train -c nlu_config.yml --fixed_model_name current \\\n",
      "--data data/intents/ -o /src_models --project nlu --verbose\n",
      "/usr/local/lib/python3.6/runpy.py:125: RuntimeWarning: 'rasa_nlu.train' found in sys.modules after import of package 'rasa_nlu', but prior to execution of 'rasa_nlu.train'; this may result in unpredictable behaviour\n",
      "  warn(RuntimeWarning(msg))\n",
      "2019-07-17 16:34:21 \u001b[1;30mINFO    \u001b[0m \u001b[34mrasa_nlu.training_data.loading\u001b[0m  - Training data format of data/intents/geral.md is md\n",
      "2019-07-17 16:34:21 \u001b[1;30mINFO    \u001b[0m \u001b[34mrasa_nlu.training_data.training_data\u001b[0m  - Training data stats: \n",
      "\t- intent examples: 85 (7 distinct intents)\n",
      "\t- Found intents: 'diga_mais', 'elogios', 'cumprimentar', 'out_of_scope', 'despedir', 'tudo_bem', 'negar'\n",
      "\t- entity examples: 0 (0 distinct entities)\n",
      "\t- found entities: \n",
      "\n",
      "2019-07-17 16:34:21 \u001b[1;30mINFO    \u001b[0m \u001b[34mrasa_nlu.training_data.loading\u001b[0m  - Training data format of data/intents/aleatorio.md is md\n",
      "2019-07-17 16:34:21 \u001b[1;30mINFO    \u001b[0m \u001b[34mrasa_nlu.training_data.training_data\u001b[0m  - Training data stats: \n",
      "\t- intent examples: 197 (24 distinct intents)\n",
      "\t- Found intents: 'genero', 'filme', 'filhos', 'onde_voce_mora', 'piada', 'star_wars', 'historia', 'esporte', 'como_estou', 'risada', 'comida', 'bff', 'time', 'me', 'license', 'relationship', 'signo', 'cor', 'religiao', 'de_onde_voce_eh', 'linguagens', 'hobby', 'playlist', 'triste'\n",
      "\t- entity examples: 172 (22 distinct entities)\n",
      "\t- found entities: 'filme', 'genero', 'filhos', 'live', 'me', 'cor', 'hobby', 'where', 'triste', 'starwars', 'piada', 'how', 'esporte', 'comida', 'bff', 'license', 'relationship', 'signo', 'religiao', 'linguagens', 'playlist', 'historia'\n",
      "\n",
      "2019-07-17 16:34:21 \u001b[1;30mINFO    \u001b[0m \u001b[34mrasa_nlu.training_data.loading\u001b[0m  - Training data format of data/intents/actions.md is md\n",
      "2019-07-17 16:34:21 \u001b[1;30mINFO    \u001b[0m \u001b[34mrasa_nlu.training_data.training_data\u001b[0m  - Training data stats: \n",
      "\t- intent examples: 6 (1 distinct intents)\n",
      "\t- Found intents: 'action_test'\n",
      "\t- entity examples: 0 (0 distinct entities)\n",
      "\t- found entities: \n",
      "\n",
      "2019-07-17 16:34:21 \u001b[1;30mINFO    \u001b[0m \u001b[34mrasa_nlu.training_data.training_data\u001b[0m  - Training data stats: \n",
      "\t- intent examples: 288 (32 distinct intents)\n",
      "\t- Found intents: 'genero', 'filme', 'filhos', 'elogios', 'out_of_scope', 'tudo_bem', 'me', 'despedir', 'cor', 'de_onde_voce_eh', 'hobby', 'triste', 'onde_voce_mora', 'piada', 'star_wars', 'esporte', 'como_estou', 'risada', 'comida', 'negar', 'bff', 'time', 'action_test', 'diga_mais', 'license', 'relationship', 'cumprimentar', 'signo', 'religiao', 'linguagens', 'playlist', 'historia'\n",
      "\t- entity examples: 172 (22 distinct entities)\n",
      "\t- found entities: 'filme', 'genero', 'filhos', 'live', 'me', 'cor', 'hobby', 'where', 'triste', 'starwars', 'piada', 'how', 'esporte', 'comida', 'bff', 'license', 'relationship', 'signo', 'religiao', 'linguagens', 'playlist', 'historia'\n",
      "\n",
      "2019-07-17 16:34:21 \u001b[1;30mINFO    \u001b[0m \u001b[34mrasa_nlu.model\u001b[0m  - Starting to train component WhitespaceTokenizer\n",
      "2019-07-17 16:34:21 \u001b[1;30mINFO    \u001b[0m \u001b[34mrasa_nlu.model\u001b[0m  - Finished training component.\n",
      "2019-07-17 16:34:21 \u001b[1;30mINFO    \u001b[0m \u001b[34mrasa_nlu.model\u001b[0m  - Starting to train component CRFEntityExtractor\n",
      "2019-07-17 16:34:22 \u001b[1;30mINFO    \u001b[0m \u001b[34mrasa_nlu.model\u001b[0m  - Finished training component.\n",
      "2019-07-17 16:34:22 \u001b[1;30mINFO    \u001b[0m \u001b[34mrasa_nlu.model\u001b[0m  - Starting to train component EntitySynonymMapper\n",
      "2019-07-17 16:34:22 \u001b[1;30mINFO    \u001b[0m \u001b[34mrasa_nlu.model\u001b[0m  - Finished training component.\n",
      "2019-07-17 16:34:22 \u001b[1;30mINFO    \u001b[0m \u001b[34mrasa_nlu.model\u001b[0m  - Starting to train component CountVectorsFeaturizer\n",
      "2019-07-17 16:34:22 \u001b[1;30mINFO    \u001b[0m \u001b[34mrasa_nlu.model\u001b[0m  - Finished training component.\n",
      "2019-07-17 16:34:22 \u001b[1;30mINFO    \u001b[0m \u001b[34mrasa_nlu.model\u001b[0m  - Starting to train component EmbeddingIntentClassifier\n",
      "\n",
      "WARNING: The TensorFlow contrib module will not be included in TensorFlow 2.0.\n",
      "For more information, please see:\n",
      "  * https://github.com/tensorflow/community/blob/master/rfcs/20180907-contrib-sunset.md\n",
      "  * https://github.com/tensorflow/addons\n",
      "If you depend on functionality not listed there, please file an issue.\n",
      "\n",
      "2019-07-17 16:34:23 \u001b[1;30mWARNING \u001b[0m \u001b[34mtensorflow\u001b[0m  - \u001b[33mFrom /usr/local/lib/python3.6/site-packages/rasa_nlu/classifiers/embedding_intent_classifier.py:285: dense (from tensorflow.python.layers.core) is deprecated and will be removed in a future version.\n",
      "Instructions for updating:\n",
      "Use keras.layers.dense instead.\u001b[0m\n",
      "2019-07-17 16:34:23 \u001b[1;30mWARNING \u001b[0m \u001b[34mtensorflow\u001b[0m  - \u001b[33mFrom /usr/local/lib/python3.6/site-packages/tensorflow/python/framework/op_def_library.py:263: colocate_with (from tensorflow.python.framework.ops) is deprecated and will be removed in a future version.\n",
      "Instructions for updating:\n",
      "Colocations handled automatically by placer.\u001b[0m\n",
      "2019-07-17 16:34:23 \u001b[1;30mWARNING \u001b[0m \u001b[34mtensorflow\u001b[0m  - \u001b[33mFrom /usr/local/lib/python3.6/site-packages/rasa_nlu/classifiers/embedding_intent_classifier.py:286: dropout (from tensorflow.python.layers.core) is deprecated and will be removed in a future version.\n",
      "Instructions for updating:\n",
      "Use keras.layers.dropout instead.\u001b[0m\n",
      "2019-07-17 16:34:23 \u001b[1;30mWARNING \u001b[0m \u001b[34mtensorflow\u001b[0m  - \u001b[33mFrom /usr/local/lib/python3.6/site-packages/tensorflow/python/keras/layers/core.py:143: calling dropout (from tensorflow.python.ops.nn_ops) with keep_prob is deprecated and will be removed in a future version.\n",
      "Instructions for updating:\n",
      "Please use `rate` instead of `keep_prob`. Rate should be set to `rate = 1 - keep_prob`.\u001b[0m\n",
      "2019-07-17 16:34:23 \u001b[1;30mWARNING \u001b[0m \u001b[34mtensorflow\u001b[0m  - \u001b[33mFrom /usr/local/lib/python3.6/site-packages/tensorflow/python/ops/math_ops.py:3066: to_int32 (from tensorflow.python.ops.math_ops) is deprecated and will be removed in a future version.\n",
      "Instructions for updating:\n",
      "Use tf.cast instead.\u001b[0m\n",
      "2019-07-17 16:34:23 \u001b[1;30mWARNING \u001b[0m \u001b[34mtensorflow\u001b[0m  - \u001b[33mFrom /usr/local/lib/python3.6/site-packages/tensorflow/python/ops/math_grad.py:102: div (from tensorflow.python.ops.math_ops) is deprecated and will be removed in a future version.\n",
      "Instructions for updating:\n",
      "Deprecated in favor of operator or tf.math.divide.\u001b[0m\n",
      "2019-07-17 16:34:24.429290: I tensorflow/core/platform/cpu_feature_guard.cc:141] Your CPU supports instructions that this TensorFlow binary was not compiled to use: AVX2 FMA\n",
      "2019-07-17 16:34:24.452899: I tensorflow/core/platform/profile_utils/cpu_utils.cc:94] CPU Frequency: 2194805000 Hz\n",
      "2019-07-17 16:34:24.453405: I tensorflow/compiler/xla/service/service.cc:150] XLA service 0x56418a533710 executing computations on platform Host. Devices:\n",
      "2019-07-17 16:34:24.453460: I tensorflow/compiler/xla/service/service.cc:158]   StreamExecutor device (0): <undefined>, <undefined>\n",
      "2019-07-17 16:34:24 \u001b[1;30mINFO    \u001b[0m \u001b[34mrasa_nlu.classifiers.embedding_intent_classifier\u001b[0m  - Accuracy is updated every 10 epochs\n",
      "Epochs: 100%|██████████| 300/300 [00:13<00:00, 22.67it/s, loss=0.100, acc=0.993]\n",
      "2019-07-17 16:34:38 \u001b[1;30mINFO    \u001b[0m \u001b[34mrasa_nlu.classifiers.embedding_intent_classifier\u001b[0m  - Finished training embedding classifier, loss=0.100, train accuracy=0.993\n",
      "2019-07-17 16:34:38 \u001b[1;30mINFO    \u001b[0m \u001b[34mrasa_nlu.model\u001b[0m  - Finished training component.\n",
      "2019-07-17 16:34:38 \u001b[1;30mINFO    \u001b[0m \u001b[34mrasa_nlu.model\u001b[0m  - Successfully saved model into '/src_models/nlu/current'\n",
      "2019-07-17 16:34:38 \u001b[1;30mINFO    \u001b[0m \u001b[34m__main__\u001b[0m  - Finished training\n",
      "python3 train.py\n",
      "/work/coach/validator.py:98: YAMLLoadWarning: calling yaml.load() without Loader=... is deprecated, as the default Loader is unsafe. Please read https://msg.pyyaml.org/load for full details.\n",
      "  validate(yaml.load(domain_file), yaml.load(schema))\n",
      "2019-07-17 16:34:39 \u001b[1;30mINFO    \u001b[0m \u001b[34mvalidator\u001b[0m  - Domain verified\n",
      "2019-07-17 16:34:39 \u001b[1;30mERROR   \u001b[0m \u001b[34mvalidator\u001b[0m  - \u001b[31mThe utter action_test is used in the stories story file data/stories/actions.md (line: 5) but it's not a valid utter.\u001b[0m\n",
      "2019-07-17 16:34:41 \u001b[1;30mINFO    \u001b[0m \u001b[34mapscheduler.scheduler\u001b[0m  - Scheduler started\n",
      "2019-07-17 16:34:41 \u001b[1;30mDEBUG   \u001b[0m \u001b[34mapscheduler.scheduler\u001b[0m  - Looking for jobs to run\n",
      "2019-07-17 16:34:41 \u001b[1;30mDEBUG   \u001b[0m \u001b[34mapscheduler.scheduler\u001b[0m  - No jobs; waiting until a job is added\n"
     ]
    },
    {
     "name": "stdout",
     "output_type": "stream",
     "text": [
      "\n",
      "WARNING: The TensorFlow contrib module will not be included in TensorFlow 2.0.\n",
      "For more information, please see:\n",
      "  * https://github.com/tensorflow/community/blob/master/rfcs/20180907-contrib-sunset.md\n",
      "  * https://github.com/tensorflow/addons\n",
      "If you depend on functionality not listed there, please file an issue.\n",
      "\n",
      "2019-07-17 16:34:42 \u001b[1;30mDEBUG   \u001b[0m \u001b[34mrasa_core.training.generator\u001b[0m  - Number of augmentation rounds is 3\n",
      "2019-07-17 16:34:42 \u001b[1;30mDEBUG   \u001b[0m \u001b[34mrasa_core.training.generator\u001b[0m  - Starting data generation round 0 ... (with 1 trackers)\n",
      "Processed Story Blocks: 100%|███| 34/34 [00:00<00:00, 4790.91it/s, # trackers=1]\n",
      "2019-07-17 16:34:42 \u001b[1;30mDEBUG   \u001b[0m \u001b[34mrasa_core.training.generator\u001b[0m  - Finished phase (34 training samples found).\n",
      "2019-07-17 16:34:42 \u001b[1;30mDEBUG   \u001b[0m \u001b[34mrasa_core.training.generator\u001b[0m  - Data generation rounds finished.\n",
      "2019-07-17 16:34:42 \u001b[1;30mDEBUG   \u001b[0m \u001b[34mrasa_core.training.generator\u001b[0m  - Found 0 unused checkpoints\n",
      "2019-07-17 16:34:42 \u001b[1;30mDEBUG   \u001b[0m \u001b[34mrasa_core.training.generator\u001b[0m  - Starting augmentation round 0 ... (with 34 trackers)\n",
      "Processed Story Blocks: 100%|███| 34/34 [00:00<00:00, 204.51it/s, # trackers=34]\n",
      "2019-07-17 16:34:42 \u001b[1;30mDEBUG   \u001b[0m \u001b[34mrasa_core.training.generator\u001b[0m  - Finished phase (1187 training samples found).\n",
      "2019-07-17 16:34:42 \u001b[1;30mDEBUG   \u001b[0m \u001b[34mrasa_core.training.generator\u001b[0m  - Starting augmentation round 1 ... (with 50 trackers)\n",
      "Processed Story Blocks: 100%|███| 34/34 [00:00<00:00, 111.16it/s, # trackers=50]\n",
      "2019-07-17 16:34:42 \u001b[1;30mDEBUG   \u001b[0m \u001b[34mrasa_core.training.generator\u001b[0m  - Finished phase (2819 training samples found).\n",
      "2019-07-17 16:34:42 \u001b[1;30mDEBUG   \u001b[0m \u001b[34mrasa_core.training.generator\u001b[0m  - Starting augmentation round 2 ... (with 50 trackers)\n",
      "Processed Story Blocks: 100%|████| 34/34 [00:00<00:00, 94.44it/s, # trackers=50]\n",
      "2019-07-17 16:34:43 \u001b[1;30mDEBUG   \u001b[0m \u001b[34mrasa_core.training.generator\u001b[0m  - Finished phase (4439 training samples found).\n",
      "2019-07-17 16:34:43 \u001b[1;30mDEBUG   \u001b[0m \u001b[34mrasa_core.training.generator\u001b[0m  - Found 4439 training trackers.\n",
      "2019-07-17 16:34:43 \u001b[1;30mDEBUG   \u001b[0m \u001b[34mrasa_core.training.generator\u001b[0m  - Subsampled to 500 augmented training trackers.\n",
      "2019-07-17 16:34:43 \u001b[1;30mDEBUG   \u001b[0m \u001b[34mrasa_core.training.generator\u001b[0m  - There are 34 original trackers.\n",
      "2019-07-17 16:34:43 \u001b[1;30mDEBUG   \u001b[0m \u001b[34mrasa_core.agent\u001b[0m  - Agent trainer got kwargs: {'validation_split': 0.2}\n",
      "2019-07-17 16:34:43 \u001b[1;30mDEBUG   \u001b[0m \u001b[34mrasa_core.featurizers\u001b[0m  - Creating states and action examples from collected trackers (by FullDialogueTrackerFeaturizer(LabelTokenizerSingleStateFeaturizer))...\n",
      "Processed trackers: 100%|██████████████████| 534/534 [00:00<00:00, 29542.81it/s]\n",
      "2019-07-17 16:34:43 \u001b[1;30mDEBUG   \u001b[0m \u001b[34mrasa_core.featurizers\u001b[0m  - The longest dialogue has 11 actions.\n",
      "2019-07-17 16:34:43.394363: I tensorflow/core/platform/cpu_feature_guard.cc:141] Your CPU supports instructions that this TensorFlow binary was not compiled to use: AVX2 FMA\n",
      "2019-07-17 16:34:43.420891: I tensorflow/core/platform/profile_utils/cpu_utils.cc:94] CPU Frequency: 2194805000 Hz\n",
      "2019-07-17 16:34:43.421344: I tensorflow/compiler/xla/service/service.cc:150] XLA service 0x55f4cd084a60 executing computations on platform Host. Devices:\n",
      "2019-07-17 16:34:43.421423: I tensorflow/compiler/xla/service/service.cc:158]   StreamExecutor device (0): <undefined>, <undefined>\n",
      "2019-07-17 16:34:43 \u001b[1;30mWARNING \u001b[0m \u001b[34mtensorflow\u001b[0m  - \u001b[33mFrom /usr/local/lib/python3.6/site-packages/tensorflow/python/ops/resource_variable_ops.py:435: colocate_with (from tensorflow.python.framework.ops) is deprecated and will be removed in a future version.\n",
      "Instructions for updating:\n",
      "Colocations handled automatically by placer.\u001b[0m\n",
      "2019-07-17 16:34:43 \u001b[1;30mWARNING \u001b[0m \u001b[34mtensorflow\u001b[0m  - \u001b[33mFrom /usr/local/lib/python3.6/site-packages/tensorflow/python/keras/backend.py:4010: calling dropout (from tensorflow.python.ops.nn_ops) with keep_prob is deprecated and will be removed in a future version.\n",
      "Instructions for updating:\n",
      "Please use `rate` instead of `keep_prob`. Rate should be set to `rate = 1 - keep_prob`.\u001b[0m\n",
      "_________________________________________________________________\n",
      "Layer (type)                 Output Shape              Param #   \n",
      "=================================================================\n",
      "masking (Masking)            (None, None, 99)          0         \n",
      "_________________________________________________________________\n",
      "lstm (LSTM)                  (None, None, 32)          16896     \n",
      "_________________________________________________________________\n",
      "time_distributed (TimeDistri (None, None, 39)          1287      \n",
      "_________________________________________________________________\n",
      "activation (Activation)      (None, None, 39)          0         \n",
      "=================================================================\n",
      "Total params: 18,183\n",
      "Trainable params: 18,183\n",
      "Non-trainable params: 0\n",
      "_________________________________________________________________\n",
      "2019-07-17 16:34:44 \u001b[1;30mDEBUG   \u001b[0m \u001b[34mrasa_core.policies.keras_policy\u001b[0m  - None\n",
      "2019-07-17 16:34:44 \u001b[1;30mINFO    \u001b[0m \u001b[34mrasa_core.policies.keras_policy\u001b[0m  - Fitting model with 534 total samples and a validation split of 0.1\n",
      "2019-07-17 16:34:44 \u001b[1;30mDEBUG   \u001b[0m \u001b[34mrasa_core.policies.policy\u001b[0m  - Parameters ignored by `model.fit(...)`: {}\n",
      "2019-07-17 16:34:44 \u001b[1;30mWARNING \u001b[0m \u001b[34mtensorflow\u001b[0m  - \u001b[33mFrom /usr/local/lib/python3.6/site-packages/tensorflow/python/ops/math_ops.py:3066: to_int32 (from tensorflow.python.ops.math_ops) is deprecated and will be removed in a future version.\n",
      "Instructions for updating:\n",
      "Use tf.cast instead.\u001b[0m\n",
      "2019-07-17 16:34:44 \u001b[1;30mWARNING \u001b[0m \u001b[34mtensorflow\u001b[0m  - \u001b[33mFrom /usr/local/lib/python3.6/site-packages/tensorflow/python/ops/math_grad.py:102: div (from tensorflow.python.ops.math_ops) is deprecated and will be removed in a future version.\n",
      "Instructions for updating:\n",
      "Deprecated in favor of operator or tf.math.divide.\u001b[0m\n",
      "Epoch 1/20\n",
      "534/534 [==============================] - 2s 3ms/sample - loss: 3.1508 - acc: 0.5214\n",
      "Epoch 2/20\n",
      "534/534 [==============================] - 1s 2ms/sample - loss: 2.5611 - acc: 0.5706\n",
      "Epoch 3/20\n",
      "534/534 [==============================] - 1s 2ms/sample - loss: 2.2887 - acc: 0.5706\n",
      "Epoch 4/20\n",
      "534/534 [==============================] - 1s 2ms/sample - loss: 2.0275 - acc: 0.5706\n",
      "Epoch 5/20\n",
      "534/534 [==============================] - 1s 1ms/sample - loss: 1.8310 - acc: 0.5915\n",
      "Epoch 6/20\n",
      "534/534 [==============================] - 1s 2ms/sample - loss: 1.7020 - acc: 0.6172\n",
      "Epoch 7/20\n",
      "534/534 [==============================] - 1s 1ms/sample - loss: 1.5782 - acc: 0.6386\n",
      "Epoch 8/20\n",
      "534/534 [==============================] - 1s 2ms/sample - loss: 1.4444 - acc: 0.6706\n",
      "Epoch 9/20\n",
      "534/534 [==============================] - 1s 2ms/sample - loss: 1.2862 - acc: 0.7177\n",
      "Epoch 10/20\n",
      "534/534 [==============================] - 1s 2ms/sample - loss: 1.1180 - acc: 0.7656\n",
      "Epoch 11/20\n",
      "534/534 [==============================] - 1s 2ms/sample - loss: 0.9341 - acc: 0.8222\n",
      "Epoch 12/20\n",
      "534/534 [==============================] - 1s 2ms/sample - loss: 0.7627 - acc: 0.8746\n",
      "Epoch 13/20\n",
      "534/534 [==============================] - 1s 2ms/sample - loss: 0.6112 - acc: 0.9196\n",
      "Epoch 14/20\n",
      "534/534 [==============================] - 1s 2ms/sample - loss: 0.4943 - acc: 0.9331\n",
      "Epoch 15/20\n",
      "534/534 [==============================] - 1s 1ms/sample - loss: 0.4015 - acc: 0.9474\n",
      "Epoch 16/20\n",
      "534/534 [==============================] - 1s 1ms/sample - loss: 0.3283 - acc: 0.9558\n",
      "Epoch 17/20\n",
      "534/534 [==============================] - 1s 1ms/sample - loss: 0.2693 - acc: 0.9640\n",
      "Epoch 18/20\n",
      "534/534 [==============================] - 1s 1ms/sample - loss: 0.2484 - acc: 0.9622\n",
      "Epoch 19/20\n",
      "534/534 [==============================] - 1s 1ms/sample - loss: 0.2007 - acc: 0.9680\n",
      "Epoch 20/20\n",
      "534/534 [==============================] - 1s 1ms/sample - loss: 0.1921 - acc: 0.9698\n",
      "2019-07-17 16:35:03 \u001b[1;30mINFO    \u001b[0m \u001b[34mrasa_core.policies.keras_policy\u001b[0m  - Done fitting keras policy model\n",
      "2019-07-17 16:35:03 \u001b[1;30mDEBUG   \u001b[0m \u001b[34mrasa_core.featurizers\u001b[0m  - Creating states and action examples from collected trackers (by MaxHistoryTrackerFeaturizer(SingleStateFeaturizer))...\n",
      "Processed trackers: 100%|███████| 34/34 [00:00<00:00, 4103.78it/s, # actions=68]\n",
      "2019-07-17 16:35:03 \u001b[1;30mDEBUG   \u001b[0m \u001b[34mrasa_core.featurizers\u001b[0m  - Created 68 action examples.\n",
      "Processed actions: 68it [00:00, 9631.33it/s, # examples=68]\n",
      "2019-07-17 16:35:03 \u001b[1;30mDEBUG   \u001b[0m \u001b[34mrasa_core.policies.memoization\u001b[0m  - Memorized 68 unique examples.\n"
     ]
    },
    {
     "name": "stdout",
     "output_type": "stream",
     "text": [
      "2019-07-17 16:35:04 \u001b[1;30mINFO    \u001b[0m \u001b[34mrasa_core.agent\u001b[0m  - Persisted model to '/src_models/dialogue'\n",
      "make: Leaving directory '/work/coach'\n"
     ]
    }
   ],
   "source": [
    "!make train -C $COACH_DIR_PATH"
   ]
  },
  {
   "cell_type": "markdown",
   "metadata": {},
   "source": [
    "* `rasa_core.evaluate` é o método utilizado para verificar a qualidade das suas `stories`."
   ]
  },
  {
   "cell_type": "code",
   "execution_count": 5,
   "metadata": {
    "scrolled": true
   },
   "outputs": [
    {
     "name": "stdout",
     "output_type": "stream",
     "text": [
      "Calling `rasa_core.evaluate` is deprecated. Please use `rasa_core.test` instead.\n",
      "\n",
      "WARNING: The TensorFlow contrib module will not be included in TensorFlow 2.0.\n",
      "For more information, please see:\n",
      "  * https://github.com/tensorflow/community/blob/master/rfcs/20180907-contrib-sunset.md\n",
      "  * https://github.com/tensorflow/addons\n",
      "If you depend on functionality not listed there, please file an issue.\n",
      "\n",
      "2019-07-17 16:35:22.074432: I tensorflow/core/platform/cpu_feature_guard.cc:141] Your CPU supports instructions that this TensorFlow binary was not compiled to use: AVX2 FMA\n",
      "2019-07-17 16:35:22.096944: I tensorflow/core/platform/profile_utils/cpu_utils.cc:94] CPU Frequency: 2194805000 Hz\n",
      "2019-07-17 16:35:22.098072: I tensorflow/compiler/xla/service/service.cc:150] XLA service 0x5576fe7115f0 executing computations on platform Host. Devices:\n",
      "2019-07-17 16:35:22.098197: I tensorflow/compiler/xla/service/service.cc:158]   StreamExecutor device (0): <undefined>, <undefined>\n",
      "WARNING:tensorflow:From /usr/local/lib/python3.6/site-packages/tensorflow/python/ops/resource_variable_ops.py:435: colocate_with (from tensorflow.python.framework.ops) is deprecated and will be removed in a future version.\n",
      "Instructions for updating:\n",
      "Colocations handled automatically by placer.\n",
      "WARNING:tensorflow:From /usr/local/lib/python3.6/site-packages/tensorflow/python/ops/resource_variable_ops.py:435: colocate_with (from tensorflow.python.framework.ops) is deprecated and will be removed in a future version.\n",
      "Instructions for updating:\n",
      "Colocations handled automatically by placer.\n",
      "WARNING:tensorflow:From /usr/local/lib/python3.6/site-packages/tensorflow/python/keras/backend.py:4010: calling dropout (from tensorflow.python.ops.nn_ops) with keep_prob is deprecated and will be removed in a future version.\n",
      "Instructions for updating:\n",
      "Please use `rate` instead of `keep_prob`. Rate should be set to `rate = 1 - keep_prob`.\n",
      "WARNING:tensorflow:From /usr/local/lib/python3.6/site-packages/tensorflow/python/keras/backend.py:4010: calling dropout (from tensorflow.python.ops.nn_ops) with keep_prob is deprecated and will be removed in a future version.\n",
      "Instructions for updating:\n",
      "Please use `rate` instead of `keep_prob`. Rate should be set to `rate = 1 - keep_prob`.\n",
      "WARNING:tensorflow:From /usr/local/lib/python3.6/site-packages/tensorflow/python/ops/math_ops.py:3066: to_int32 (from tensorflow.python.ops.math_ops) is deprecated and will be removed in a future version.\n",
      "Instructions for updating:\n",
      "Use tf.cast instead.\n",
      "WARNING:tensorflow:From /usr/local/lib/python3.6/site-packages/tensorflow/python/ops/math_ops.py:3066: to_int32 (from tensorflow.python.ops.math_ops) is deprecated and will be removed in a future version.\n",
      "Instructions for updating:\n",
      "Use tf.cast instead.\n",
      "WARNING:tensorflow:From /usr/local/lib/python3.6/site-packages/tensorflow/python/ops/math_grad.py:102: div (from tensorflow.python.ops.math_ops) is deprecated and will be removed in a future version.\n",
      "Instructions for updating:\n",
      "Deprecated in favor of operator or tf.math.divide.\n",
      "WARNING:tensorflow:From /usr/local/lib/python3.6/site-packages/tensorflow/python/ops/math_grad.py:102: div (from tensorflow.python.ops.math_ops) is deprecated and will be removed in a future version.\n",
      "Instructions for updating:\n",
      "Deprecated in favor of operator or tf.math.divide.\n",
      "Processed Story Blocks: 100%|███| 34/34 [00:00<00:00, 4384.65it/s, # trackers=1]\n",
      "INFO:rasa_core.test:Evaluating 34 stories\n",
      "Progress:\n",
      "100%|███████████████████████████████████████████| 34/34 [00:00<00:00, 55.92it/s]\n",
      "INFO:rasa_core.test:Finished collecting predictions.\n",
      "INFO:rasa_core.test:Evaluation Results on CONVERSATION level:\n",
      "INFO:rasa_core.test:\tCorrect:          34 / 34\n",
      "INFO:rasa_core.test:\tF1-Score:         1.000\n",
      "INFO:rasa_core.test:\tPrecision:        1.000\n",
      "INFO:rasa_core.test:\tAccuracy:         1.000\n",
      "INFO:rasa_core.test:\tIn-data fraction: 1\n",
      "INFO:rasa_core.test:Evaluation Results on ACTION level:\n",
      "INFO:rasa_core.test:\tCorrect:          76 / 76\n",
      "INFO:rasa_core.test:\tF1-Score:         1.000\n",
      "INFO:rasa_core.test:\tPrecision:        1.000\n",
      "INFO:rasa_core.test:\tAccuracy:         1.000\n",
      "INFO:rasa_core.test:\tIn-data fraction: 1\n",
      "INFO:rasa_core.test:\tClassification report: \n",
      "                       precision    recall  f1-score   support\n",
      "\n",
      "        action_listen       1.00      1.00      1.00        38\n",
      "          action_test       1.00      1.00      1.00         2\n",
      "            utter_bff       1.00      1.00      1.00         1\n",
      "         utter_comida       1.00      1.00      1.00         1\n",
      "     utter_como_estou       1.00      1.00      1.00         1\n",
      "            utter_cor       1.00      1.00      1.00         1\n",
      "   utter_cumprimentar       1.00      1.00      1.00         4\n",
      "utter_de_onde_voce_eh       1.00      1.00      1.00         1\n",
      "        utter_default       1.00      1.00      1.00         1\n",
      "       utter_despedir       1.00      1.00      1.00         3\n",
      "      utter_diga_mais       1.00      1.00      1.00         1\n",
      "        utter_elogios       1.00      1.00      1.00         1\n",
      "        utter_esporte       1.00      1.00      1.00         1\n",
      "         utter_filhos       1.00      1.00      1.00         1\n",
      "          utter_filme       1.00      1.00      1.00         1\n",
      "         utter_genero       1.00      1.00      1.00         1\n",
      "       utter_historia       1.00      1.00      1.00         1\n",
      "          utter_hobby       1.00      1.00      1.00         1\n",
      "        utter_license       1.00      1.00      1.00         1\n",
      "     utter_linguagens       1.00      1.00      1.00         1\n",
      "             utter_me       1.00      1.00      1.00         1\n",
      " utter_onde_voce_mora       1.00      1.00      1.00         1\n",
      "          utter_piada       1.00      1.00      1.00         1\n",
      "       utter_playlist       1.00      1.00      1.00         1\n",
      "   utter_relationship       1.00      1.00      1.00         1\n",
      "       utter_religiao       1.00      1.00      1.00         1\n",
      "         utter_risada       1.00      1.00      1.00         1\n",
      "          utter_signo       1.00      1.00      1.00         1\n",
      "      utter_star_wars       1.00      1.00      1.00         1\n",
      "           utter_time       1.00      1.00      1.00         1\n",
      "         utter_triste       1.00      1.00      1.00         1\n",
      "       utter_tudo_bem       1.00      1.00      1.00         2\n",
      "\n",
      "            micro avg       1.00      1.00      1.00        76\n",
      "            macro avg       1.00      1.00      1.00        76\n",
      "         weighted avg       1.00      1.00      1.00        76\n",
      "\n",
      "INFO:rasa_nlu.test:Confusion matrix, without normalization: \n",
      "[[38  0  0 ...  0  0  0]\n",
      " [ 0  2  0 ...  0  0  0]\n",
      " [ 0  0  1 ...  0  0  0]\n",
      " ...\n",
      " [ 0  0  0 ...  1  0  0]\n",
      " [ 0  0  0 ...  0  1  0]\n",
      " [ 0  0  0 ...  0  0  2]]\n",
      "INFO:rasa_core.test:Finished evaluation\n"
     ]
    }
   ],
   "source": [
    "!python -m rasa_core.evaluate --core $COACH_MODELS_DIALOGUE_PATH -s $COACH_STORIES_PATH -o results"
   ]
  },
  {
   "cell_type": "markdown",
   "metadata": {},
   "source": [
    "* Caso algum problme seja encotrado ele será descrito no arquivo `failed_stories.md`"
   ]
  },
  {
   "cell_type": "code",
   "execution_count": 6,
   "metadata": {},
   "outputs": [
    {
     "name": "stdout",
     "output_type": "stream",
     "text": [
      "<!-- All stories passed -->"
     ]
    }
   ],
   "source": [
    "!cat results/failed_stories.md"
   ]
  },
  {
   "cell_type": "markdown",
   "metadata": {},
   "source": [
    "* Se tudo estiver correto você deverá ver a mensagem:\n",
    "\n",
    "`<!-- All stories passed -->`"
   ]
  },
  {
   "cell_type": "markdown",
   "metadata": {},
   "source": [
    "* Outro arquivo gerado é  o `story_confmat.pdf` uma matriz de confuzão onde é possível visualizar a relação entre as `utters` (mensagens enviadas ."
   ]
  },
  {
   "cell_type": "code",
   "execution_count": 11,
   "metadata": {},
   "outputs": [
    {
     "data": {
      "text/html": [
       "\n",
       "        <iframe\n",
       "            width=\"900\"\n",
       "            height=\"900\"\n",
       "            src=\"results/story_confmat.pdf\"\n",
       "            frameborder=\"0\"\n",
       "            allowfullscreen\n",
       "        ></iframe>\n",
       "        "
      ],
      "text/plain": [
       "<IPython.lib.display.IFrame at 0x7f9d55f80cf8>"
      ]
     },
     "execution_count": 11,
     "metadata": {},
     "output_type": "execute_result"
    }
   ],
   "source": [
    "from IPython.display import IFrame\n",
    "IFrame(\"results/story_confmat.pdf\", width=900, height=900)"
   ]
  },
  {
   "cell_type": "markdown",
   "metadata": {},
   "source": [
    "## Referências:\n",
    "\n",
    "O Rasa está em constante evolução, alguns links úteis para a construção deste jupyter-notebook e para a análise das `stories` são:\n",
    "\n",
    "* [Evaluation](https://rasa.com/docs/core/evaluation/)\n",
    "* [Debugging](https://rasa.com/docs/core/debugging/)"
   ]
  },
  {
   "cell_type": "code",
   "execution_count": null,
   "metadata": {},
   "outputs": [],
   "source": []
  }
 ],
 "metadata": {
  "colab": {
   "collapsed_sections": [
    "y4miuS-TqYcn",
    "BBF6Nqi9scQE",
    "Fs3nOUzBsqrG",
    "5MnGuFRpzzBh"
   ],
   "default_view": {},
   "name": "Building a Simple Bot with Rasa Stack - Tutorial",
   "provenance": [
    {
     "file_id": "1GutDkDXmfU-nRzNH7Pxxx8YpdvLUw9LO",
     "timestamp": 1521183725373
    }
   ],
   "toc_visible": true,
   "version": "0.3.2",
   "views": {}
  },
  "kernelspec": {
   "display_name": "Python 3",
   "language": "python",
   "name": "python3"
  },
  "language_info": {
   "codemirror_mode": {
    "name": "ipython",
    "version": 3
   },
   "file_extension": ".py",
   "mimetype": "text/x-python",
   "name": "python",
   "nbconvert_exporter": "python",
   "pygments_lexer": "ipython3",
   "version": "3.6.9"
  }
 },
 "nbformat": 4,
 "nbformat_minor": 1
}

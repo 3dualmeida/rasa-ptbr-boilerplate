{
 "cells": [
  {
   "cell_type": "markdown",
   "metadata": {
    "colab_type": "text",
    "id": "kO9wt2g3okLS"
   },
   "source": [
    "# Análise das Intents\n",
    "\n",
    "Este jupyter-notebook vai auxiliar na análise de detecção de intenções de seu chatbot."
   ]
  },
  {
   "cell_type": "markdown",
   "metadata": {},
   "source": [
    "### Configurando e Imports"
   ]
  },
  {
   "cell_type": "code",
   "execution_count": 1,
   "metadata": {
    "scrolled": false
   },
   "outputs": [
    {
     "name": "stdout",
     "output_type": "stream",
     "text": [
      "rasa_nlu: 0.15.0\n"
     ]
    }
   ],
   "source": [
    "from IPython.display import IFrame\n",
    "\n",
    "import rasa_nlu\n",
    "print(\"rasa_nlu: {}\".format(rasa_nlu.__version__))"
   ]
  },
  {
   "cell_type": "markdown",
   "metadata": {
    "colab_type": "text",
    "id": "1xeXgpdwzOAl"
   },
   "source": [
    "### Treinando o modelo do Rasa NLU\n",
    "\n",
    "* Para avaliar o bot o primeiro passo é treiner o seu chatbot. Mas não é necessário treinar a parte de conversão completa (rasa_core) apenas a parte de interpretação de mensagens (rasa_nlu).\n",
    "\n",
    "* O comando `train-nlu` do Makefile executa o treinamento apenas do `rasa_nlu`"
   ]
  },
  {
   "cell_type": "code",
   "execution_count": 2,
   "metadata": {
    "scrolled": false
   },
   "outputs": [
    {
     "name": "stdout",
     "output_type": "stream",
     "text": [
      "make: Entering directory '/work/coach'\n",
      "python3 -m rasa_nlu.train -c nlu_config.yml --fixed_model_name current \\\n",
      "--data data/intents/ -o /src_models --project nlu --verbose\n",
      "/usr/local/lib/python3.6/runpy.py:125: RuntimeWarning: 'rasa_nlu.train' found in sys.modules after import of package 'rasa_nlu', but prior to execution of 'rasa_nlu.train'; this may result in unpredictable behaviour\n",
      "  warn(RuntimeWarning(msg))\n",
      "2019-07-17 16:30:02 \u001b[1;30mINFO    \u001b[0m \u001b[34mrasa_nlu.training_data.loading\u001b[0m  - Training data format of data/intents/geral.md is md\n",
      "2019-07-17 16:30:02 \u001b[1;30mINFO    \u001b[0m \u001b[34mrasa_nlu.training_data.training_data\u001b[0m  - Training data stats: \n",
      "\t- intent examples: 85 (7 distinct intents)\n",
      "\t- Found intents: 'elogios', 'negar', 'despedir', 'diga_mais', 'tudo_bem', 'out_of_scope', 'cumprimentar'\n",
      "\t- entity examples: 0 (0 distinct entities)\n",
      "\t- found entities: \n",
      "\n",
      "2019-07-17 16:30:02 \u001b[1;30mINFO    \u001b[0m \u001b[34mrasa_nlu.training_data.loading\u001b[0m  - Training data format of data/intents/aleatorio.md is md\n",
      "2019-07-17 16:30:02 \u001b[1;30mINFO    \u001b[0m \u001b[34mrasa_nlu.training_data.training_data\u001b[0m  - Training data stats: \n",
      "\t- intent examples: 197 (24 distinct intents)\n",
      "\t- Found intents: 'bff', 'filhos', 'license', 'de_onde_voce_eh', 'triste', 'religiao', 'playlist', 'signo', 'risada', 'time', 'comida', 'star_wars', 'cor', 'onde_voce_mora', 'esporte', 'piada', 'me', 'historia', 'linguagens', 'filme', 'hobby', 'relationship', 'como_estou', 'genero'\n",
      "\t- entity examples: 172 (22 distinct entities)\n",
      "\t- found entities: 'filhos', 'starwars', 'license', 'triste', 'live', 'religiao', 'signo', 'cor', 'how', 'esporte', 'piada', 'me', 'historia', 'hobby', 'relationship', 'bff', 'playlist', 'comida', 'filme', 'linguagens', 'genero', 'where'\n",
      "\n",
      "2019-07-17 16:30:02 \u001b[1;30mINFO    \u001b[0m \u001b[34mrasa_nlu.training_data.loading\u001b[0m  - Training data format of data/intents/actions.md is md\n",
      "2019-07-17 16:30:02 \u001b[1;30mINFO    \u001b[0m \u001b[34mrasa_nlu.training_data.training_data\u001b[0m  - Training data stats: \n",
      "\t- intent examples: 6 (1 distinct intents)\n",
      "\t- Found intents: 'action_test'\n",
      "\t- entity examples: 0 (0 distinct entities)\n",
      "\t- found entities: \n",
      "\n",
      "2019-07-17 16:30:02 \u001b[1;30mINFO    \u001b[0m \u001b[34mrasa_nlu.training_data.training_data\u001b[0m  - Training data stats: \n",
      "\t- intent examples: 288 (32 distinct intents)\n",
      "\t- Found intents: 'filhos', 'license', 'negar', 'action_test', 'triste', 'religiao', 'signo', 'time', 'star_wars', 'cor', 'elogios', 'esporte', 'piada', 'me', 'historia', 'hobby', 'relationship', 'tudo_bem', 'como_estou', 'cumprimentar', 'bff', 'despedir', 'de_onde_voce_eh', 'playlist', 'risada', 'comida', 'onde_voce_mora', 'linguagens', 'filme', 'diga_mais', 'out_of_scope', 'genero'\n",
      "\t- entity examples: 172 (22 distinct entities)\n",
      "\t- found entities: 'filhos', 'starwars', 'license', 'triste', 'live', 'religiao', 'signo', 'cor', 'how', 'esporte', 'piada', 'me', 'historia', 'hobby', 'relationship', 'bff', 'playlist', 'comida', 'filme', 'linguagens', 'genero', 'where'\n",
      "\n",
      "2019-07-17 16:30:02 \u001b[1;30mINFO    \u001b[0m \u001b[34mrasa_nlu.model\u001b[0m  - Starting to train component WhitespaceTokenizer\n",
      "2019-07-17 16:30:02 \u001b[1;30mINFO    \u001b[0m \u001b[34mrasa_nlu.model\u001b[0m  - Finished training component.\n",
      "2019-07-17 16:30:02 \u001b[1;30mINFO    \u001b[0m \u001b[34mrasa_nlu.model\u001b[0m  - Starting to train component CRFEntityExtractor\n",
      "2019-07-17 16:30:02 \u001b[1;30mINFO    \u001b[0m \u001b[34mrasa_nlu.model\u001b[0m  - Finished training component.\n",
      "2019-07-17 16:30:02 \u001b[1;30mINFO    \u001b[0m \u001b[34mrasa_nlu.model\u001b[0m  - Starting to train component EntitySynonymMapper\n",
      "2019-07-17 16:30:02 \u001b[1;30mINFO    \u001b[0m \u001b[34mrasa_nlu.model\u001b[0m  - Finished training component.\n",
      "2019-07-17 16:30:02 \u001b[1;30mINFO    \u001b[0m \u001b[34mrasa_nlu.model\u001b[0m  - Starting to train component CountVectorsFeaturizer\n",
      "2019-07-17 16:30:03 \u001b[1;30mINFO    \u001b[0m \u001b[34mrasa_nlu.model\u001b[0m  - Finished training component.\n",
      "2019-07-17 16:30:03 \u001b[1;30mINFO    \u001b[0m \u001b[34mrasa_nlu.model\u001b[0m  - Starting to train component EmbeddingIntentClassifier\n",
      "\n",
      "WARNING: The TensorFlow contrib module will not be included in TensorFlow 2.0.\n",
      "For more information, please see:\n",
      "  * https://github.com/tensorflow/community/blob/master/rfcs/20180907-contrib-sunset.md\n",
      "  * https://github.com/tensorflow/addons\n",
      "If you depend on functionality not listed there, please file an issue.\n",
      "\n",
      "2019-07-17 16:30:05 \u001b[1;30mWARNING \u001b[0m \u001b[34mtensorflow\u001b[0m  - \u001b[33mFrom /usr/local/lib/python3.6/site-packages/rasa_nlu/classifiers/embedding_intent_classifier.py:285: dense (from tensorflow.python.layers.core) is deprecated and will be removed in a future version.\n",
      "Instructions for updating:\n",
      "Use keras.layers.dense instead.\u001b[0m\n",
      "2019-07-17 16:30:05 \u001b[1;30mWARNING \u001b[0m \u001b[34mtensorflow\u001b[0m  - \u001b[33mFrom /usr/local/lib/python3.6/site-packages/tensorflow/python/framework/op_def_library.py:263: colocate_with (from tensorflow.python.framework.ops) is deprecated and will be removed in a future version.\n",
      "Instructions for updating:\n",
      "Colocations handled automatically by placer.\u001b[0m\n",
      "2019-07-17 16:30:05 \u001b[1;30mWARNING \u001b[0m \u001b[34mtensorflow\u001b[0m  - \u001b[33mFrom /usr/local/lib/python3.6/site-packages/rasa_nlu/classifiers/embedding_intent_classifier.py:286: dropout (from tensorflow.python.layers.core) is deprecated and will be removed in a future version.\n",
      "Instructions for updating:\n",
      "Use keras.layers.dropout instead.\u001b[0m\n",
      "2019-07-17 16:30:05 \u001b[1;30mWARNING \u001b[0m \u001b[34mtensorflow\u001b[0m  - \u001b[33mFrom /usr/local/lib/python3.6/site-packages/tensorflow/python/keras/layers/core.py:143: calling dropout (from tensorflow.python.ops.nn_ops) with keep_prob is deprecated and will be removed in a future version.\n",
      "Instructions for updating:\n",
      "Please use `rate` instead of `keep_prob`. Rate should be set to `rate = 1 - keep_prob`.\u001b[0m\n",
      "2019-07-17 16:30:05 \u001b[1;30mWARNING \u001b[0m \u001b[34mtensorflow\u001b[0m  - \u001b[33mFrom /usr/local/lib/python3.6/site-packages/tensorflow/python/ops/math_ops.py:3066: to_int32 (from tensorflow.python.ops.math_ops) is deprecated and will be removed in a future version.\n",
      "Instructions for updating:\n",
      "Use tf.cast instead.\u001b[0m\n",
      "2019-07-17 16:30:05 \u001b[1;30mWARNING \u001b[0m \u001b[34mtensorflow\u001b[0m  - \u001b[33mFrom /usr/local/lib/python3.6/site-packages/tensorflow/python/ops/math_grad.py:102: div (from tensorflow.python.ops.math_ops) is deprecated and will be removed in a future version.\n",
      "Instructions for updating:\n",
      "Deprecated in favor of operator or tf.math.divide.\u001b[0m\n",
      "2019-07-17 16:30:06.320809: I tensorflow/core/platform/cpu_feature_guard.cc:141] Your CPU supports instructions that this TensorFlow binary was not compiled to use: AVX2 FMA\n",
      "2019-07-17 16:30:06.344961: I tensorflow/core/platform/profile_utils/cpu_utils.cc:94] CPU Frequency: 2194805000 Hz\n",
      "2019-07-17 16:30:06.345414: I tensorflow/compiler/xla/service/service.cc:150] XLA service 0x563c2cae7710 executing computations on platform Host. Devices:\n",
      "2019-07-17 16:30:06.345467: I tensorflow/compiler/xla/service/service.cc:158]   StreamExecutor device (0): <undefined>, <undefined>\n",
      "2019-07-17 16:30:06 \u001b[1;30mINFO    \u001b[0m \u001b[34mrasa_nlu.classifiers.embedding_intent_classifier\u001b[0m  - Accuracy is updated every 10 epochs\n",
      "Epochs: 100%|██████████| 300/300 [00:14<00:00, 25.65it/s, loss=0.101, acc=0.993]\n",
      "2019-07-17 16:30:20 \u001b[1;30mINFO    \u001b[0m \u001b[34mrasa_nlu.classifiers.embedding_intent_classifier\u001b[0m  - Finished training embedding classifier, loss=0.101, train accuracy=0.993\n",
      "2019-07-17 16:30:20 \u001b[1;30mINFO    \u001b[0m \u001b[34mrasa_nlu.model\u001b[0m  - Finished training component.\n",
      "2019-07-17 16:30:20 \u001b[1;30mINFO    \u001b[0m \u001b[34mrasa_nlu.model\u001b[0m  - Successfully saved model into '/src_models/nlu/current'\n",
      "2019-07-17 16:30:20 \u001b[1;30mINFO    \u001b[0m \u001b[34m__main__\u001b[0m  - Finished training\n",
      "make: Leaving directory '/work/coach'\n"
     ]
    }
   ],
   "source": [
    "!make train-nlu -C $COACH_DIR_PATH"
   ]
  },
  {
   "cell_type": "markdown",
   "metadata": {},
   "source": [
    "### Métodos de avaliação do chatbot\n",
    "\n",
    "* O Rasa fornece vários métodos de avaliação e validação das `intents`, para verificar como utiliza-los, cada método fornece um log, imagem, gráfico ou arquivo com dados relevantes para interpretação do chatbot."
   ]
  },
  {
   "cell_type": "markdown",
   "metadata": {},
   "source": [
    "* O comando `!python -m rasa_nlu.test` é a base para a avaliação do chatbot.\n",
    "\n",
    "* Na célula abaixo a flag `-h` foi utilizada para mostrar as funções e a forma de uso de cada uma delas, mude seus valores e flags para ter as informações desejadas na sua análise.\n",
    "\n",
    "* Atualmente o Rasa possui 2 modos, `evaluation` e `crossvalidation` que tem seções decicadas a eles neste jupyter notebook."
   ]
  },
  {
   "cell_type": "code",
   "execution_count": 3,
   "metadata": {
    "scrolled": true
   },
   "outputs": [
    {
     "name": "stdout",
     "output_type": "stream",
     "text": [
      "/usr/local/lib/python3.6/runpy.py:125: RuntimeWarning: 'rasa_nlu.test' found in sys.modules after import of package 'rasa_nlu', but prior to execution of 'rasa_nlu.test'; this may result in unpredictable behaviour\r\n",
      "  warn(RuntimeWarning(msg))\r\n",
      "usage: test.py [-h] [--debug] [-v] -d DATA [--mode MODE] [-c CONFIG]\r\n",
      "               [-m MODEL] [-f FOLDS] [--report [REPORT]]\r\n",
      "               [--successes [SUCCESSES]] [--errors ERRORS]\r\n",
      "               [--histogram HISTOGRAM] [--confmat CONFMAT]\r\n",
      "\r\n",
      "evaluate a Rasa NLU pipeline with cross validation or on external data\r\n",
      "\r\n",
      "optional arguments:\r\n",
      "  -h, --help            show this help message and exit\r\n",
      "  --debug               Print lots of debugging statements. Sets logging level\r\n",
      "                        to DEBUG\r\n",
      "  -v, --verbose         Be verbose. Sets logging level to INFO\r\n",
      "  -d DATA, --data DATA  file containing training/evaluation data\r\n",
      "  --mode MODE           evaluation|crossvalidation (evaluate pretrained model\r\n",
      "                        or train model by crossvalidation)\r\n",
      "  -c CONFIG, --config CONFIG\r\n",
      "                        model configuration file (crossvalidation only)\r\n",
      "  -m MODEL, --model MODEL\r\n",
      "                        path to model (evaluation only)\r\n",
      "  -f FOLDS, --folds FOLDS\r\n",
      "                        number of CV folds (crossvalidation only)\r\n",
      "  --report [REPORT]     output path to save the intent/entitymetrics report\r\n",
      "  --successes [SUCCESSES]\r\n",
      "                        output path to save successful predictions\r\n",
      "  --errors ERRORS       output path to save model errors\r\n",
      "  --histogram HISTOGRAM\r\n",
      "                        output path for the confidence histogram\r\n",
      "  --confmat CONFMAT     output path for the confusion matrix plot\r\n"
     ]
    }
   ],
   "source": [
    "!python -m rasa_nlu.test -h"
   ]
  },
  {
   "cell_type": "markdown",
   "metadata": {},
   "source": [
    "### Evaluation"
   ]
  },
  {
   "cell_type": "markdown",
   "metadata": {},
   "source": [
    "* O comando abaixo gera informações relevates para a validação das `intents` são elas:\n",
    "    * Matriz de confusão\n",
    "    * Histograma\n",
    "    * Erros de intents"
   ]
  },
  {
   "cell_type": "code",
   "execution_count": 4,
   "metadata": {
    "scrolled": true
   },
   "outputs": [
    {
     "name": "stdout",
     "output_type": "stream",
     "text": [
      "/usr/local/lib/python3.6/runpy.py:125: RuntimeWarning: 'rasa_nlu.test' found in sys.modules after import of package 'rasa_nlu', but prior to execution of 'rasa_nlu.test'; this may result in unpredictable behaviour\n",
      "  warn(RuntimeWarning(msg))\n",
      "2019-07-17 16:31:33.800517: I tensorflow/core/platform/cpu_feature_guard.cc:141] Your CPU supports instructions that this TensorFlow binary was not compiled to use: AVX2 FMA\n",
      "2019-07-17 16:31:33.828980: I tensorflow/core/platform/profile_utils/cpu_utils.cc:94] CPU Frequency: 2194805000 Hz\n",
      "2019-07-17 16:31:33.829499: I tensorflow/compiler/xla/service/service.cc:150] XLA service 0x55c71b5187e0 executing computations on platform Host. Devices:\n",
      "2019-07-17 16:31:33.829554: I tensorflow/compiler/xla/service/service.cc:158]   StreamExecutor device (0): <undefined>, <undefined>\n",
      "2019-07-17 16:31:34 \u001b[1;30mWARNING \u001b[0m \u001b[34mtensorflow\u001b[0m  - \u001b[33mFrom /usr/local/lib/python3.6/site-packages/tensorflow/python/training/saver.py:1266: checkpoint_exists (from tensorflow.python.training.checkpoint_management) is deprecated and will be removed in a future version.\n",
      "Instructions for updating:\n",
      "Use standard file APIs to check for files with this prefix.\u001b[0m\n",
      "2019-07-17 16:31:34 \u001b[1;30mINFO    \u001b[0m \u001b[34mtensorflow\u001b[0m  - Restoring parameters from /models/nlu/current/component_4_EmbeddingIntentClassifier.ckpt\n",
      "2019-07-17 16:31:34 \u001b[1;30mINFO    \u001b[0m \u001b[34mrasa_nlu.training_data.loading\u001b[0m  - Training data format of ../../coach/data/intents/geral.md is md\n",
      "2019-07-17 16:31:34 \u001b[1;30mINFO    \u001b[0m \u001b[34mrasa_nlu.training_data.training_data\u001b[0m  - Training data stats: \n",
      "\t- intent examples: 85 (7 distinct intents)\n",
      "\t- Found intents: 'cumprimentar', 'diga_mais', 'out_of_scope', 'despedir', 'tudo_bem', 'negar', 'elogios'\n",
      "\t- entity examples: 0 (0 distinct entities)\n",
      "\t- found entities: \n",
      "\n",
      "2019-07-17 16:31:34 \u001b[1;30mINFO    \u001b[0m \u001b[34mrasa_nlu.training_data.loading\u001b[0m  - Training data format of ../../coach/data/intents/aleatorio.md is md\n",
      "2019-07-17 16:31:34 \u001b[1;30mINFO    \u001b[0m \u001b[34mrasa_nlu.training_data.training_data\u001b[0m  - Training data stats: \n",
      "\t- intent examples: 197 (24 distinct intents)\n",
      "\t- Found intents: 'relationship', 'me', 'time', 'bff', 'religiao', 'license', 'esporte', 'filhos', 'risada', 'historia', 'de_onde_voce_eh', 'piada', 'genero', 'linguagens', 'cor', 'signo', 'onde_voce_mora', 'playlist', 'filme', 'star_wars', 'triste', 'comida', 'como_estou', 'hobby'\n",
      "\t- entity examples: 172 (22 distinct entities)\n",
      "\t- found entities: 'me', 'bff', 'religiao', 'license', 'piada', 'cor', 'filme', 'triste', 'comida', 'where', 'relationship', 'how', 'live', 'esporte', 'historia', 'filhos', 'genero', 'linguagens', 'signo', 'starwars', 'playlist', 'hobby'\n",
      "\n",
      "2019-07-17 16:31:34 \u001b[1;30mINFO    \u001b[0m \u001b[34mrasa_nlu.training_data.loading\u001b[0m  - Training data format of ../../coach/data/intents/actions.md is md\n",
      "2019-07-17 16:31:34 \u001b[1;30mINFO    \u001b[0m \u001b[34mrasa_nlu.training_data.training_data\u001b[0m  - Training data stats: \n",
      "\t- intent examples: 6 (1 distinct intents)\n",
      "\t- Found intents: 'action_test'\n",
      "\t- entity examples: 0 (0 distinct entities)\n",
      "\t- found entities: \n",
      "\n",
      "2019-07-17 16:31:34 \u001b[1;30mINFO    \u001b[0m \u001b[34mrasa_nlu.training_data.training_data\u001b[0m  - Training data stats: \n",
      "\t- intent examples: 288 (32 distinct intents)\n",
      "\t- Found intents: 'me', 'cumprimentar', 'out_of_scope', 'bff', 'religiao', 'license', 'negar', 'elogios', 'risada', 'de_onde_voce_eh', 'piada', 'cor', 'filme', 'triste', 'comida', 'como_estou', 'relationship', 'action_test', 'despedir', 'hobby', 'esporte', 'filhos', 'historia', 'genero', 'linguagens', 'signo', 'diga_mais', 'playlist', 'tudo_bem', 'onde_voce_mora', 'time', 'star_wars'\n",
      "\t- entity examples: 172 (22 distinct entities)\n",
      "\t- found entities: 'me', 'bff', 'religiao', 'license', 'piada', 'cor', 'filme', 'triste', 'comida', 'where', 'relationship', 'how', 'live', 'esporte', 'historia', 'filhos', 'genero', 'linguagens', 'signo', 'starwars', 'playlist', 'hobby'\n",
      "\n",
      "2019-07-17 16:31:34 \u001b[1;30mINFO    \u001b[0m \u001b[34m__main__\u001b[0m  - Running model for predictions:\n",
      "100%|████████████████████████████████████████| 288/288 [00:00<00:00, 429.64it/s]\n",
      "2019-07-17 16:31:34 \u001b[1;30mINFO    \u001b[0m \u001b[34m__main__\u001b[0m  - Intent evaluation results:\n",
      "2019-07-17 16:31:34 \u001b[1;30mINFO    \u001b[0m \u001b[34m__main__\u001b[0m  - Intent Evaluation: Only considering those 288 examples that have a defined intent out of 288 examples\n",
      "/usr/local/lib/python3.6/site-packages/sklearn/metrics/classification.py:1145: UndefinedMetricWarning: Recall and F-score are ill-defined and being set to 0.0 in labels with no true samples.\n",
      "  'recall', 'true', average, warn_for)\n",
      "/usr/local/lib/python3.6/site-packages/sklearn/metrics/classification.py:1145: UndefinedMetricWarning: F-score is ill-defined and being set to 0.0 in labels with no true samples.\n",
      "  'recall', 'true', average, warn_for)\n",
      "2019-07-17 16:31:34 \u001b[1;30mINFO    \u001b[0m \u001b[34m__main__\u001b[0m  - F1-Score:  0.9914054566832343\n",
      "2019-07-17 16:31:34 \u001b[1;30mINFO    \u001b[0m \u001b[34m__main__\u001b[0m  - Precision: 0.9942129629629629\n",
      "2019-07-17 16:31:34 \u001b[1;30mINFO    \u001b[0m \u001b[34m__main__\u001b[0m  - Accuracy:  0.9895833333333334\n",
      "2019-07-17 16:31:34 \u001b[1;30mINFO    \u001b[0m \u001b[34m__main__\u001b[0m  - Classification report: \n",
      "                 precision    recall  f1-score   support\n",
      "\n",
      "                      0.00      0.00      0.00         0\n",
      "    action_test       1.00      1.00      1.00         6\n",
      "            bff       1.00      1.00      1.00        11\n",
      "         comida       1.00      1.00      1.00         8\n",
      "     como_estou       1.00      1.00      1.00         8\n",
      "            cor       1.00      1.00      1.00         6\n",
      "   cumprimentar       1.00      0.91      0.95        22\n",
      "de_onde_voce_eh       1.00      1.00      1.00         4\n",
      "       despedir       1.00      1.00      1.00        16\n",
      "      diga_mais       1.00      1.00      1.00         9\n",
      "        elogios       1.00      1.00      1.00         4\n",
      "        esporte       1.00      1.00      1.00         6\n",
      "         filhos       1.00      1.00      1.00        11\n",
      "          filme       1.00      1.00      1.00         4\n",
      "         genero       1.00      1.00      1.00         8\n",
      "       historia       1.00      1.00      1.00         6\n",
      "          hobby       1.00      1.00      1.00         7\n",
      "        license       1.00      1.00      1.00        11\n",
      "     linguagens       1.00      0.93      0.96        14\n",
      "             me       1.00      1.00      1.00         6\n",
      "          negar       1.00      1.00      1.00        19\n",
      " onde_voce_mora       1.00      1.00      1.00         8\n",
      "   out_of_scope       1.00      1.00      1.00         5\n",
      "          piada       1.00      1.00      1.00         7\n",
      "       playlist       1.00      1.00      1.00         8\n",
      "   relationship       1.00      1.00      1.00        10\n",
      "       religiao       1.00      1.00      1.00        16\n",
      "         risada       1.00      1.00      1.00        13\n",
      "          signo       1.00      1.00      1.00         3\n",
      "      star_wars       1.00      1.00      1.00        10\n",
      "           time       1.00      1.00      1.00         5\n",
      "         triste       1.00      1.00      1.00         7\n",
      "       tudo_bem       0.83      1.00      0.91        10\n",
      "\n",
      "      micro avg       0.99      0.99      0.99       288\n",
      "      macro avg       0.96      0.96      0.96       288\n",
      "   weighted avg       0.99      0.99      0.99       288\n",
      "\n",
      "2019-07-17 16:31:34 \u001b[1;30mINFO    \u001b[0m \u001b[34m__main__\u001b[0m  - Model prediction errors saved to errors.json.\n",
      "2019-07-17 16:31:35 \u001b[1;30mINFO    \u001b[0m \u001b[34mmatplotlib.font_manager\u001b[0m  - font search path ['/usr/local/lib/python3.6/site-packages/matplotlib/mpl-data/fonts/ttf', '/usr/local/lib/python3.6/site-packages/matplotlib/mpl-data/fonts/afm', '/usr/local/lib/python3.6/site-packages/matplotlib/mpl-data/fonts/pdfcorefonts']\n",
      "2019-07-17 16:31:36 \u001b[1;30mINFO    \u001b[0m \u001b[34mmatplotlib.font_manager\u001b[0m  - generated new fontManager\n",
      "2019-07-17 16:31:38 \u001b[1;30mINFO    \u001b[0m \u001b[34m__main__\u001b[0m  - Confusion matrix, without normalization: \n",
      "[[ 0  0  0 ...  0  0  0]\n",
      " [ 0  6  0 ...  0  0  0]\n",
      " [ 0  0 11 ...  0  0  0]\n",
      " ...\n",
      " [ 0  0  0 ...  5  0  0]\n",
      " [ 0  0  0 ...  0  7  0]\n",
      " [ 0  0  0 ...  0  0 10]]\n",
      "Figure(2000x2000)\n",
      "Figure(1000x1000)\n",
      "2019-07-17 16:31:43 \u001b[1;30mINFO    \u001b[0m \u001b[34m__main__\u001b[0m  - Entity evaluation results:\n",
      "2019-07-17 16:31:44 \u001b[1;30mINFO    \u001b[0m \u001b[34m__main__\u001b[0m  - Evaluation for entity extractor: CRFEntityExtractor \n"
     ]
    },
    {
     "name": "stdout",
     "output_type": "stream",
     "text": [
      "2019-07-17 16:31:44 \u001b[1;30mINFO    \u001b[0m \u001b[34m__main__\u001b[0m  - F1-Score:  1.0\r\n",
      "2019-07-17 16:31:44 \u001b[1;30mINFO    \u001b[0m \u001b[34m__main__\u001b[0m  - Precision: 1.0\r\n",
      "2019-07-17 16:31:44 \u001b[1;30mINFO    \u001b[0m \u001b[34m__main__\u001b[0m  - Accuracy:  1.0\r\n",
      "2019-07-17 16:31:44 \u001b[1;30mINFO    \u001b[0m \u001b[34m__main__\u001b[0m  - Classification report: \r\n",
      "              precision    recall  f1-score   support\r\n",
      "\r\n",
      "         bff       1.00      1.00      1.00        17\r\n",
      "      comida       1.00      1.00      1.00        17\r\n",
      "         cor       1.00      1.00      1.00        13\r\n",
      "     esporte       1.00      1.00      1.00         6\r\n",
      "      filhos       1.00      1.00      1.00        11\r\n",
      "       filme       1.00      1.00      1.00         4\r\n",
      "      genero       1.00      1.00      1.00        15\r\n",
      "    historia       1.00      1.00      1.00         6\r\n",
      "       hobby       1.00      1.00      1.00        11\r\n",
      "         how       1.00      1.00      1.00        24\r\n",
      "     license       1.00      1.00      1.00        14\r\n",
      "  linguagens       1.00      1.00      1.00        14\r\n",
      "        live       1.00      1.00      1.00        13\r\n",
      "          me       1.00      1.00      1.00         6\r\n",
      "   no_entity       1.00      1.00      1.00       613\r\n",
      "       piada       1.00      1.00      1.00         7\r\n",
      "    playlist       1.00      1.00      1.00         7\r\n",
      "relationship       1.00      1.00      1.00         9\r\n",
      "    religiao       1.00      1.00      1.00        16\r\n",
      "       signo       1.00      1.00      1.00         3\r\n",
      "    starwars       1.00      1.00      1.00        13\r\n",
      "      triste       1.00      1.00      1.00         7\r\n",
      "       where       1.00      1.00      1.00         3\r\n",
      "\r\n",
      "   micro avg       1.00      1.00      1.00       849\r\n",
      "   macro avg       1.00      1.00      1.00       849\r\n",
      "weighted avg       1.00      1.00      1.00       849\r\n",
      "\r\n",
      "2019-07-17 16:31:44 \u001b[1;30mINFO    \u001b[0m \u001b[34m__main__\u001b[0m  - Finished evaluation\r\n"
     ]
    }
   ],
   "source": [
    "!python -m rasa_nlu.test -d $COACH_INTENTS_PATH -m $COACH_MODELS_NLU_PATH --mode evaluation"
   ]
  },
  {
   "cell_type": "markdown",
   "metadata": {},
   "source": [
    "#### Matriz de Confusão\n",
    "* A matriz de confusão mostra a correlação entre as intents.\n",
    "* A diagonal principal tem forte correlação pois mostra a relação de uma intent **com ela mesma**\n",
    "* O ideal é que não haja **nenhum valor** diferente de **0 fora da diagonal principal**."
   ]
  },
  {
   "cell_type": "code",
   "execution_count": 5,
   "metadata": {
    "scrolled": false
   },
   "outputs": [
    {
     "data": {
      "text/html": [
       "\n",
       "        <iframe\n",
       "            width=\"900\"\n",
       "            height=\"700\"\n",
       "            src=\"./confmat.png\"\n",
       "            frameborder=\"0\"\n",
       "            allowfullscreen\n",
       "        ></iframe>\n",
       "        "
      ],
      "text/plain": [
       "<IPython.lib.display.IFrame at 0x7fbad45f52b0>"
      ]
     },
     "execution_count": 5,
     "metadata": {},
     "output_type": "execute_result"
    }
   ],
   "source": [
    "IFrame(src='./confmat.png', width=900, height=700)"
   ]
  },
  {
   "cell_type": "markdown",
   "metadata": {},
   "source": [
    "#### Erros\n",
    "* O arquivo `erros,json` mostra os erros encontrados. Este arquivo lista os mesmos erros mostrados na **matriz de confusão**, então caso ela fique muito grande, não se preocupe, pois você pode apenas procurar os erros no arquivo gerado.\n",
    "* Os erros mostrados são textos repetidos nos exemplos de diferrentes `intents`.\n",
    "* Caso o arquivo não seja gerado significa que não foram encontrados erros."
   ]
  },
  {
   "cell_type": "code",
   "execution_count": 6,
   "metadata": {
    "scrolled": true
   },
   "outputs": [
    {
     "name": "stdout",
     "output_type": "stream",
     "text": [
      "[\r\n",
      "    {\r\n",
      "        \"text\": \"como vai\",\r\n",
      "        \"intent\": \"cumprimentar\",\r\n",
      "        \"intent_prediction\": {\r\n",
      "            \"name\": \"tudo_bem\",\r\n",
      "            \"confidence\": 0.7145657539367676\r\n",
      "        }\r\n",
      "    },\r\n",
      "    {\r\n",
      "        \"text\": \"tudo bom\",\r\n",
      "        \"intent\": \"cumprimentar\",\r\n",
      "        \"intent_prediction\": {\r\n",
      "            \"name\": \"tudo_bem\",\r\n",
      "            \"confidence\": 0.7155274152755737\r\n",
      "        }\r\n",
      "    },\r\n",
      "    {\r\n",
      "        \"text\": \"e o c#\",\r\n",
      "        \"intent\": \"linguagens\",\r\n",
      "        \"intent_prediction\": {\r\n",
      "            \"name\": \"\",\r\n",
      "            \"confidence\": 0.0\r\n",
      "        }\r\n",
      "    }\r\n",
      "]"
     ]
    }
   ],
   "source": [
    "%cat errors.json"
   ]
  },
  {
   "cell_type": "markdown",
   "metadata": {},
   "source": [
    "#### Histograma\n",
    "\n",
    "* O histograma contém a distribuição da predições das `intents`"
   ]
  },
  {
   "cell_type": "code",
   "execution_count": 7,
   "metadata": {
    "scrolled": false
   },
   "outputs": [
    {
     "data": {
      "text/html": [
       "\n",
       "        <iframe\n",
       "            width=\"900\"\n",
       "            height=\"700\"\n",
       "            src=\"./hist.png\"\n",
       "            frameborder=\"0\"\n",
       "            allowfullscreen\n",
       "        ></iframe>\n",
       "        "
      ],
      "text/plain": [
       "<IPython.lib.display.IFrame at 0x7fbac6e839b0>"
      ]
     },
     "execution_count": 7,
     "metadata": {},
     "output_type": "execute_result"
    }
   ],
   "source": [
    "IFrame(src='./hist.png', width=900, height=700)"
   ]
  },
  {
   "cell_type": "markdown",
   "metadata": {},
   "source": [
    "### Crossvalidation"
   ]
  },
  {
   "cell_type": "code",
   "execution_count": 8,
   "metadata": {
    "scrolled": true
   },
   "outputs": [
    {
     "name": "stdout",
     "output_type": "stream",
     "text": [
      "/usr/local/lib/python3.6/runpy.py:125: RuntimeWarning: 'rasa_nlu.test' found in sys.modules after import of package 'rasa_nlu', but prior to execution of 'rasa_nlu.test'; this may result in unpredictable behaviour\n",
      "  warn(RuntimeWarning(msg))\n",
      "2019-07-17 16:32:19 \u001b[1;30mINFO    \u001b[0m \u001b[34mrasa_nlu.training_data.loading\u001b[0m  - Training data format of ../../coach/data/intents/geral.md is md\n",
      "2019-07-17 16:32:19 \u001b[1;30mINFO    \u001b[0m \u001b[34mrasa_nlu.training_data.training_data\u001b[0m  - Training data stats: \n",
      "\t- intent examples: 85 (7 distinct intents)\n",
      "\t- Found intents: 'cumprimentar', 'tudo_bem', 'negar', 'elogios', 'despedir', 'out_of_scope', 'diga_mais'\n",
      "\t- entity examples: 0 (0 distinct entities)\n",
      "\t- found entities: \n",
      "\n",
      "2019-07-17 16:32:19 \u001b[1;30mINFO    \u001b[0m \u001b[34mrasa_nlu.training_data.loading\u001b[0m  - Training data format of ../../coach/data/intents/aleatorio.md is md\n",
      "2019-07-17 16:32:19 \u001b[1;30mINFO    \u001b[0m \u001b[34mrasa_nlu.training_data.training_data\u001b[0m  - Training data stats: \n",
      "\t- intent examples: 197 (24 distinct intents)\n",
      "\t- Found intents: 'bff', 'risada', 'filhos', 'genero', 'piada', 'time', 'comida', 'cor', 'historia', 'triste', 'como_estou', 'filme', 'star_wars', 'relationship', 'esporte', 'signo', 'me', 'linguagens', 'de_onde_voce_eh', 'religiao', 'hobby', 'playlist', 'license', 'onde_voce_mora'\n",
      "\t- entity examples: 172 (22 distinct entities)\n",
      "\t- found entities: 'live', 'filhos', 'genero', 'relationship', 'linguagens', 'me', 'hobby', 'starwars', 'playlist', 'license', 'bff', 'piada', 'comida', 'cor', 'historia', 'triste', 'where', 'filme', 'how', 'esporte', 'signo', 'religiao'\n",
      "\n",
      "2019-07-17 16:32:19 \u001b[1;30mINFO    \u001b[0m \u001b[34mrasa_nlu.training_data.loading\u001b[0m  - Training data format of ../../coach/data/intents/actions.md is md\n",
      "2019-07-17 16:32:19 \u001b[1;30mINFO    \u001b[0m \u001b[34mrasa_nlu.training_data.training_data\u001b[0m  - Training data stats: \n",
      "\t- intent examples: 6 (1 distinct intents)\n",
      "\t- Found intents: 'action_test'\n",
      "\t- entity examples: 0 (0 distinct entities)\n",
      "\t- found entities: \n",
      "\n",
      "2019-07-17 16:32:19 \u001b[1;30mINFO    \u001b[0m \u001b[34mrasa_nlu.training_data.training_data\u001b[0m  - Training data stats: \n",
      "\t- intent examples: 288 (32 distinct intents)\n",
      "\t- Found intents: 'filhos', 'genero', 'time', 'como_estou', 'cumprimentar', 'star_wars', 'relationship', 'tudo_bem', 'linguagens', 'me', 'hobby', 'playlist', 'license', 'onde_voce_mora', 'bff', 'risada', 'piada', 'negar', 'comida', 'cor', 'historia', 'out_of_scope', 'triste', 'elogios', 'filme', 'action_test', 'esporte', 'signo', 'de_onde_voce_eh', 'despedir', 'religiao', 'diga_mais'\n",
      "\t- entity examples: 172 (22 distinct entities)\n",
      "\t- found entities: 'live', 'filhos', 'genero', 'relationship', 'linguagens', 'me', 'hobby', 'starwars', 'playlist', 'license', 'bff', 'piada', 'comida', 'cor', 'historia', 'triste', 'where', 'filme', 'how', 'esporte', 'signo', 'religiao'\n",
      "\n",
      "2019-07-17 16:32:19 \u001b[1;30mINFO    \u001b[0m \u001b[34mrasa_nlu.training_data.training_data\u001b[0m  - Training data stats: \n",
      "\t- intent examples: 273 (28 distinct intents)\n",
      "\t- Found intents: 'bff', 'risada', 'filhos', 'genero', 'piada', 'time', 'negar', 'comida', 'cor', 'historia', 'out_of_scope', 'triste', 'como_estou', 'cumprimentar', 'star_wars', 'relationship', 'hobby', 'action_test', 'tudo_bem', 'esporte', 'linguagens', 'despedir', 'religiao', 'me', 'playlist', 'license', 'onde_voce_mora', 'diga_mais'\n",
      "\t- entity examples: 162 (19 distinct entities)\n",
      "\t- found entities: 'bff', 'triste', 'live', 'filhos', 'genero', 'how', 'piada', 'relationship', 'esporte', 'comida', 'me', 'cor', 'historia', 'linguagens', 'religiao', 'hobby', 'starwars', 'playlist', 'license'\n",
      "\n",
      "2019-07-17 16:32:20 \u001b[1;30mINFO    \u001b[0m \u001b[34mrasa_nlu.training_data.training_data\u001b[0m  - Training data stats: \n",
      "\t- intent examples: 131 (28 distinct intents)\n",
      "\t- Found intents: 'bff', 'risada', 'filhos', 'genero', 'piada', 'time', 'negar', 'comida', 'cor', 'historia', 'out_of_scope', 'triste', 'como_estou', 'cumprimentar', 'star_wars', 'relationship', 'hobby', 'action_test', 'tudo_bem', 'esporte', 'linguagens', 'despedir', 'religiao', 'me', 'playlist', 'license', 'onde_voce_mora', 'diga_mais'\n",
      "\t- entity examples: 79 (19 distinct entities)\n",
      "\t- found entities: 'bff', 'triste', 'live', 'filhos', 'genero', 'how', 'piada', 'relationship', 'esporte', 'comida', 'me', 'cor', 'historia', 'linguagens', 'religiao', 'hobby', 'starwars', 'playlist', 'license'\n",
      "\n",
      "2019-07-17 16:32:20 \u001b[1;30mINFO    \u001b[0m \u001b[34mrasa_nlu.training_data.training_data\u001b[0m  - Training data stats: \n",
      "\t- intent examples: 142 (28 distinct intents)\n",
      "\t- Found intents: 'bff', 'risada', 'filhos', 'genero', 'piada', 'time', 'negar', 'comida', 'cor', 'historia', 'out_of_scope', 'triste', 'como_estou', 'cumprimentar', 'star_wars', 'relationship', 'hobby', 'action_test', 'tudo_bem', 'esporte', 'linguagens', 'despedir', 'religiao', 'me', 'playlist', 'license', 'onde_voce_mora', 'diga_mais'\n",
      "\t- entity examples: 83 (19 distinct entities)\n",
      "\t- found entities: 'bff', 'triste', 'live', 'filhos', 'genero', 'how', 'piada', 'relationship', 'esporte', 'comida', 'me', 'cor', 'historia', 'linguagens', 'religiao', 'hobby', 'starwars', 'playlist', 'license'\n",
      "\n",
      "2019-07-17 16:32:20 \u001b[1;30mINFO    \u001b[0m \u001b[34mrasa_nlu.model\u001b[0m  - Starting to train component WhitespaceTokenizer\n",
      "2019-07-17 16:32:20 \u001b[1;30mINFO    \u001b[0m \u001b[34mrasa_nlu.model\u001b[0m  - Finished training component.\n",
      "2019-07-17 16:32:20 \u001b[1;30mINFO    \u001b[0m \u001b[34mrasa_nlu.model\u001b[0m  - Starting to train component CRFEntityExtractor\n",
      "2019-07-17 16:32:21 \u001b[1;30mINFO    \u001b[0m \u001b[34mrasa_nlu.model\u001b[0m  - Finished training component.\n",
      "2019-07-17 16:32:21 \u001b[1;30mINFO    \u001b[0m \u001b[34mrasa_nlu.model\u001b[0m  - Starting to train component EntitySynonymMapper\n",
      "2019-07-17 16:32:21 \u001b[1;30mINFO    \u001b[0m \u001b[34mrasa_nlu.model\u001b[0m  - Finished training component.\n",
      "2019-07-17 16:32:21 \u001b[1;30mINFO    \u001b[0m \u001b[34mrasa_nlu.model\u001b[0m  - Starting to train component CountVectorsFeaturizer\n",
      "2019-07-17 16:32:21 \u001b[1;30mINFO    \u001b[0m \u001b[34mrasa_nlu.model\u001b[0m  - Finished training component.\n",
      "2019-07-17 16:32:21 \u001b[1;30mINFO    \u001b[0m \u001b[34mrasa_nlu.model\u001b[0m  - Starting to train component EmbeddingIntentClassifier\n",
      "\n",
      "WARNING: The TensorFlow contrib module will not be included in TensorFlow 2.0.\n",
      "For more information, please see:\n",
      "  * https://github.com/tensorflow/community/blob/master/rfcs/20180907-contrib-sunset.md\n",
      "  * https://github.com/tensorflow/addons\n",
      "If you depend on functionality not listed there, please file an issue.\n",
      "\n",
      "2019-07-17 16:32:21 \u001b[1;30mWARNING \u001b[0m \u001b[34mtensorflow\u001b[0m  - \u001b[33mFrom /usr/local/lib/python3.6/site-packages/rasa_nlu/classifiers/embedding_intent_classifier.py:285: dense (from tensorflow.python.layers.core) is deprecated and will be removed in a future version.\n",
      "Instructions for updating:\n",
      "Use keras.layers.dense instead.\u001b[0m\n",
      "2019-07-17 16:32:21 \u001b[1;30mWARNING \u001b[0m \u001b[34mtensorflow\u001b[0m  - \u001b[33mFrom /usr/local/lib/python3.6/site-packages/tensorflow/python/framework/op_def_library.py:263: colocate_with (from tensorflow.python.framework.ops) is deprecated and will be removed in a future version.\n",
      "Instructions for updating:\n",
      "Colocations handled automatically by placer.\u001b[0m\n",
      "2019-07-17 16:32:21 \u001b[1;30mWARNING \u001b[0m \u001b[34mtensorflow\u001b[0m  - \u001b[33mFrom /usr/local/lib/python3.6/site-packages/rasa_nlu/classifiers/embedding_intent_classifier.py:286: dropout (from tensorflow.python.layers.core) is deprecated and will be removed in a future version.\n",
      "Instructions for updating:\n",
      "Use keras.layers.dropout instead.\u001b[0m\n",
      "2019-07-17 16:32:21 \u001b[1;30mWARNING \u001b[0m \u001b[34mtensorflow\u001b[0m  - \u001b[33mFrom /usr/local/lib/python3.6/site-packages/tensorflow/python/keras/layers/core.py:143: calling dropout (from tensorflow.python.ops.nn_ops) with keep_prob is deprecated and will be removed in a future version.\n",
      "Instructions for updating:\n",
      "Please use `rate` instead of `keep_prob`. Rate should be set to `rate = 1 - keep_prob`.\u001b[0m\n",
      "2019-07-17 16:32:22 \u001b[1;30mWARNING \u001b[0m \u001b[34mtensorflow\u001b[0m  - \u001b[33mFrom /usr/local/lib/python3.6/site-packages/tensorflow/python/ops/math_ops.py:3066: to_int32 (from tensorflow.python.ops.math_ops) is deprecated and will be removed in a future version.\n",
      "Instructions for updating:\n",
      "Use tf.cast instead.\u001b[0m\n",
      "2019-07-17 16:32:22 \u001b[1;30mWARNING \u001b[0m \u001b[34mtensorflow\u001b[0m  - \u001b[33mFrom /usr/local/lib/python3.6/site-packages/tensorflow/python/ops/math_grad.py:102: div (from tensorflow.python.ops.math_ops) is deprecated and will be removed in a future version.\n",
      "Instructions for updating:\n",
      "Deprecated in favor of operator or tf.math.divide.\u001b[0m\n"
     ]
    },
    {
     "name": "stdout",
     "output_type": "stream",
     "text": [
      "2019-07-17 16:32:22.678227: I tensorflow/core/platform/cpu_feature_guard.cc:141] Your CPU supports instructions that this TensorFlow binary was not compiled to use: AVX2 FMA\n",
      "2019-07-17 16:32:22.700933: I tensorflow/core/platform/profile_utils/cpu_utils.cc:94] CPU Frequency: 2194805000 Hz\n",
      "2019-07-17 16:32:22.701522: I tensorflow/compiler/xla/service/service.cc:150] XLA service 0x55be5a7c66c0 executing computations on platform Host. Devices:\n",
      "2019-07-17 16:32:22.701579: I tensorflow/compiler/xla/service/service.cc:158]   StreamExecutor device (0): <undefined>, <undefined>\n",
      "2019-07-17 16:32:22 \u001b[1;30mINFO    \u001b[0m \u001b[34mrasa_nlu.classifiers.embedding_intent_classifier\u001b[0m  - Accuracy is updated every 10 epochs\n",
      "Epochs: 100%|██████████| 300/300 [00:05<00:00, 53.69it/s, loss=0.194, acc=0.992]\n",
      "2019-07-17 16:32:28 \u001b[1;30mINFO    \u001b[0m \u001b[34mrasa_nlu.classifiers.embedding_intent_classifier\u001b[0m  - Finished training embedding classifier, loss=0.194, train accuracy=0.992\n",
      "2019-07-17 16:32:28 \u001b[1;30mINFO    \u001b[0m \u001b[34mrasa_nlu.model\u001b[0m  - Finished training component.\n",
      "2019-07-17 16:32:28 \u001b[1;30mINFO    \u001b[0m \u001b[34m__main__\u001b[0m  - Running model for predictions:\n",
      "100%|████████████████████████████████████████| 131/131 [00:00<00:00, 435.20it/s]\n",
      "2019-07-17 16:32:28 \u001b[1;30mINFO    \u001b[0m \u001b[34m__main__\u001b[0m  - Running model for predictions:\n",
      "100%|████████████████████████████████████████| 142/142 [00:00<00:00, 527.33it/s]\n",
      "/usr/local/lib/python3.6/site-packages/sklearn/metrics/classification.py:1143: UndefinedMetricWarning: Precision and F-score are ill-defined and being set to 0.0 in labels with no predicted samples.\n",
      "  'precision', 'predicted', average, warn_for)\n",
      "/usr/local/lib/python3.6/site-packages/sklearn/metrics/classification.py:1145: UndefinedMetricWarning: Recall and F-score are ill-defined and being set to 0.0 in labels with no true samples.\n",
      "  'recall', 'true', average, warn_for)\n",
      "/usr/local/lib/python3.6/site-packages/sklearn/metrics/classification.py:1143: UndefinedMetricWarning: Precision is ill-defined and being set to 0.0 in labels with no predicted samples.\n",
      "  'precision', 'predicted', average, warn_for)\n",
      "/usr/local/lib/python3.6/site-packages/sklearn/metrics/classification.py:1143: UndefinedMetricWarning: F-score is ill-defined and being set to 0.0 in labels with no predicted samples.\n",
      "  'precision', 'predicted', average, warn_for)\n",
      "/usr/local/lib/python3.6/site-packages/sklearn/metrics/classification.py:1145: UndefinedMetricWarning: F-score is ill-defined and being set to 0.0 in labels with no true samples.\n",
      "  'recall', 'true', average, warn_for)\n",
      "2019-07-17 16:32:28 \u001b[1;30mINFO    \u001b[0m \u001b[34mrasa_nlu.training_data.training_data\u001b[0m  - Training data stats: \n",
      "\t- intent examples: 142 (28 distinct intents)\n",
      "\t- Found intents: 'bff', 'risada', 'filhos', 'genero', 'piada', 'time', 'negar', 'comida', 'cor', 'historia', 'out_of_scope', 'triste', 'como_estou', 'cumprimentar', 'star_wars', 'relationship', 'hobby', 'action_test', 'tudo_bem', 'esporte', 'linguagens', 'despedir', 'religiao', 'me', 'playlist', 'license', 'onde_voce_mora', 'diga_mais'\n",
      "\t- entity examples: 83 (19 distinct entities)\n",
      "\t- found entities: 'bff', 'triste', 'live', 'filhos', 'genero', 'how', 'piada', 'relationship', 'esporte', 'comida', 'me', 'cor', 'historia', 'linguagens', 'religiao', 'hobby', 'starwars', 'playlist', 'license'\n",
      "\n",
      "2019-07-17 16:32:28 \u001b[1;30mINFO    \u001b[0m \u001b[34mrasa_nlu.training_data.training_data\u001b[0m  - Training data stats: \n",
      "\t- intent examples: 131 (28 distinct intents)\n",
      "\t- Found intents: 'bff', 'risada', 'filhos', 'genero', 'piada', 'time', 'negar', 'comida', 'cor', 'historia', 'out_of_scope', 'triste', 'como_estou', 'cumprimentar', 'star_wars', 'relationship', 'hobby', 'action_test', 'tudo_bem', 'esporte', 'linguagens', 'despedir', 'religiao', 'me', 'playlist', 'license', 'onde_voce_mora', 'diga_mais'\n",
      "\t- entity examples: 79 (19 distinct entities)\n",
      "\t- found entities: 'bff', 'triste', 'live', 'filhos', 'genero', 'how', 'piada', 'relationship', 'esporte', 'comida', 'me', 'cor', 'historia', 'linguagens', 'religiao', 'hobby', 'starwars', 'playlist', 'license'\n",
      "\n",
      "2019-07-17 16:32:29 \u001b[1;30mINFO    \u001b[0m \u001b[34mrasa_nlu.model\u001b[0m  - Starting to train component WhitespaceTokenizer\n",
      "2019-07-17 16:32:29 \u001b[1;30mINFO    \u001b[0m \u001b[34mrasa_nlu.model\u001b[0m  - Finished training component.\n",
      "2019-07-17 16:32:29 \u001b[1;30mINFO    \u001b[0m \u001b[34mrasa_nlu.model\u001b[0m  - Starting to train component CRFEntityExtractor\n",
      "2019-07-17 16:32:29 \u001b[1;30mINFO    \u001b[0m \u001b[34mrasa_nlu.model\u001b[0m  - Finished training component.\n",
      "2019-07-17 16:32:29 \u001b[1;30mINFO    \u001b[0m \u001b[34mrasa_nlu.model\u001b[0m  - Starting to train component EntitySynonymMapper\n",
      "2019-07-17 16:32:29 \u001b[1;30mINFO    \u001b[0m \u001b[34mrasa_nlu.model\u001b[0m  - Finished training component.\n",
      "2019-07-17 16:32:29 \u001b[1;30mINFO    \u001b[0m \u001b[34mrasa_nlu.model\u001b[0m  - Starting to train component CountVectorsFeaturizer\n",
      "2019-07-17 16:32:29 \u001b[1;30mINFO    \u001b[0m \u001b[34mrasa_nlu.model\u001b[0m  - Finished training component.\n",
      "2019-07-17 16:32:29 \u001b[1;30mINFO    \u001b[0m \u001b[34mrasa_nlu.model\u001b[0m  - Starting to train component EmbeddingIntentClassifier\n",
      "2019-07-17 16:32:30 \u001b[1;30mINFO    \u001b[0m \u001b[34mrasa_nlu.classifiers.embedding_intent_classifier\u001b[0m  - Accuracy is updated every 10 epochs\n",
      "Epochs: 100%|██████████| 300/300 [00:06<00:00, 45.43it/s, loss=0.188, acc=1.000]\n",
      "2019-07-17 16:32:36 \u001b[1;30mINFO    \u001b[0m \u001b[34mrasa_nlu.classifiers.embedding_intent_classifier\u001b[0m  - Finished training embedding classifier, loss=0.188, train accuracy=1.000\n",
      "2019-07-17 16:32:36 \u001b[1;30mINFO    \u001b[0m \u001b[34mrasa_nlu.model\u001b[0m  - Finished training component.\n",
      "2019-07-17 16:32:36 \u001b[1;30mINFO    \u001b[0m \u001b[34m__main__\u001b[0m  - Running model for predictions:\n",
      "100%|████████████████████████████████████████| 142/142 [00:00<00:00, 433.04it/s]\n",
      "/usr/local/lib/python3.6/site-packages/sklearn/metrics/classification.py:1145: UndefinedMetricWarning: Recall and F-score are ill-defined and being set to 0.0 in labels with no true samples.\n",
      "  'recall', 'true', average, warn_for)\n",
      "/usr/local/lib/python3.6/site-packages/sklearn/metrics/classification.py:1145: UndefinedMetricWarning: F-score is ill-defined and being set to 0.0 in labels with no true samples.\n",
      "  'recall', 'true', average, warn_for)\n",
      "2019-07-17 16:32:37 \u001b[1;30mINFO    \u001b[0m \u001b[34m__main__\u001b[0m  - Running model for predictions:\n",
      "100%|████████████████████████████████████████| 131/131 [00:00<00:00, 569.47it/s]\n",
      "/usr/local/lib/python3.6/site-packages/sklearn/metrics/classification.py:1143: UndefinedMetricWarning: Precision and F-score are ill-defined and being set to 0.0 in labels with no predicted samples.\n",
      "  'precision', 'predicted', average, warn_for)\n",
      "/usr/local/lib/python3.6/site-packages/sklearn/metrics/classification.py:1143: UndefinedMetricWarning: Precision is ill-defined and being set to 0.0 in labels with no predicted samples.\n",
      "  'precision', 'predicted', average, warn_for)\n",
      "/usr/local/lib/python3.6/site-packages/sklearn/metrics/classification.py:1143: UndefinedMetricWarning: F-score is ill-defined and being set to 0.0 in labels with no predicted samples.\n",
      "  'precision', 'predicted', average, warn_for)\n",
      "2019-07-17 16:32:37 \u001b[1;30mINFO    \u001b[0m \u001b[34m__main__\u001b[0m  - CV evaluation (n=2)\n",
      "2019-07-17 16:32:37 \u001b[1;30mINFO    \u001b[0m \u001b[34m__main__\u001b[0m  - Intent evaluation results\n",
      "2019-07-17 16:32:37 \u001b[1;30mINFO    \u001b[0m \u001b[34m__main__\u001b[0m  - train Accuracy: 0.993 (0.000)\n",
      "2019-07-17 16:32:37 \u001b[1;30mINFO    \u001b[0m \u001b[34m__main__\u001b[0m  - train F1-score: 0.994 (0.002)\n",
      "2019-07-17 16:32:37 \u001b[1;30mINFO    \u001b[0m \u001b[34m__main__\u001b[0m  - train Precision: 0.997 (0.003)\n",
      "2019-07-17 16:32:37 \u001b[1;30mINFO    \u001b[0m \u001b[34m__main__\u001b[0m  - test Accuracy: 0.536 (0.029)\n",
      "2019-07-17 16:32:37 \u001b[1;30mINFO    \u001b[0m \u001b[34m__main__\u001b[0m  - test F1-score: 0.561 (0.031)\n",
      "2019-07-17 16:32:37 \u001b[1;30mINFO    \u001b[0m \u001b[34m__main__\u001b[0m  - test Precision: 0.681 (0.027)\n",
      "2019-07-17 16:32:37 \u001b[1;30mINFO    \u001b[0m \u001b[34m__main__\u001b[0m  - Entity evaluation results\n",
      "2019-07-17 16:32:37 \u001b[1;30mINFO    \u001b[0m \u001b[34m__main__\u001b[0m  - Entity extractor: CRFEntityExtractor\n",
      "2019-07-17 16:32:37 \u001b[1;30mINFO    \u001b[0m \u001b[34m__main__\u001b[0m  - train Accuracy: 1.000 (0.000)\n",
      "2019-07-17 16:32:37 \u001b[1;30mINFO    \u001b[0m \u001b[34m__main__\u001b[0m  - train F1-score: 1.000 (0.000)\n",
      "2019-07-17 16:32:37 \u001b[1;30mINFO    \u001b[0m \u001b[34m__main__\u001b[0m  - train Precision: 1.000 (0.000)\n",
      "2019-07-17 16:32:37 \u001b[1;30mINFO    \u001b[0m \u001b[34m__main__\u001b[0m  - Entity extractor: CRFEntityExtractor\n",
      "2019-07-17 16:32:37 \u001b[1;30mINFO    \u001b[0m \u001b[34m__main__\u001b[0m  - test Accuracy: 0.826 (0.004)\n",
      "2019-07-17 16:32:37 \u001b[1;30mINFO    \u001b[0m \u001b[34m__main__\u001b[0m  - test F1-score: 0.776 (0.001)\n",
      "2019-07-17 16:32:37 \u001b[1;30mINFO    \u001b[0m \u001b[34m__main__\u001b[0m  - test Precision: 0.810 (0.033)\n",
      "2019-07-17 16:32:37 \u001b[1;30mINFO    \u001b[0m \u001b[34m__main__\u001b[0m  - Finished evaluation\n"
     ]
    }
   ],
   "source": [
    "!python -m rasa_nlu.test -d $COACH_INTENTS_PATH -c $COACH_NLU_CONFIG_PATH --mode crossvalidation --folds 2 --report"
   ]
  },
  {
   "cell_type": "markdown",
   "metadata": {},
   "source": [
    "## Referências:\n",
    "\n",
    "O Rasa está em constante evolução, alguns links úteis para a construção deste jupyter-notebook e para a análise das `intents` são:\n",
    "\n",
    "* [Evaluation](https://rasa.com/docs/nlu/evaluation/)"
   ]
  },
  {
   "cell_type": "code",
   "execution_count": null,
   "metadata": {
    "scrolled": true
   },
   "outputs": [],
   "source": []
  }
 ],
 "metadata": {
  "colab": {
   "collapsed_sections": [
    "y4miuS-TqYcn",
    "BBF6Nqi9scQE",
    "Fs3nOUzBsqrG",
    "5MnGuFRpzzBh"
   ],
   "default_view": {},
   "name": "Building a Simple Bot with Rasa Stack - Tutorial",
   "provenance": [
    {
     "file_id": "1GutDkDXmfU-nRzNH7Pxxx8YpdvLUw9LO",
     "timestamp": 1521183725373
    }
   ],
   "toc_visible": true,
   "version": "0.3.2",
   "views": {}
  },
  "kernelspec": {
   "display_name": "Python 3",
   "language": "python",
   "name": "python3"
  },
  "language_info": {
   "codemirror_mode": {
    "name": "ipython",
    "version": 3
   },
   "file_extension": ".py",
   "mimetype": "text/x-python",
   "name": "python",
   "nbconvert_exporter": "python",
   "pygments_lexer": "ipython3",
   "version": "3.6.9"
  }
 },
 "nbformat": 4,
 "nbformat_minor": 1
}

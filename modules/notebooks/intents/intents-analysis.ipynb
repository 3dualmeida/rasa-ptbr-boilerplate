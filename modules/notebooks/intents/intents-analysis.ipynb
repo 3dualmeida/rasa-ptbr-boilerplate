{
 "cells": [
  {
   "cell_type": "markdown",
   "metadata": {
    "colab_type": "text",
    "id": "kO9wt2g3okLS"
   },
   "source": [
    "# Análise das Intents\n",
    "\n",
    "Este jupyter-notebook vai auxiliar na análise de detecção de intenções de seu chatbot."
   ]
  },
  {
   "cell_type": "markdown",
   "metadata": {},
   "source": [
    "### Configurando e Imports"
   ]
  },
  {
   "cell_type": "code",
   "execution_count": 1,
   "metadata": {
    "scrolled": false
   },
   "outputs": [
    {
     "name": "stdout",
     "output_type": "stream",
     "text": [
      "rasa: 1.2.2\n"
     ]
    }
   ],
   "source": [
    "from IPython.display import IFrame\n",
    "\n",
    "import rasa\n",
    "print(\"rasa: {}\".format(rasa.__version__))"
   ]
  },
  {
   "cell_type": "markdown",
   "metadata": {
    "colab_type": "text",
    "id": "1xeXgpdwzOAl"
   },
   "source": [
    "### Treinando o modelo do Rasa NLU\n",
    "\n",
    "* Para avaliar o bot o primeiro passo é treiner o seu chatbot. Mas não é necessário treinar a parte de conversão completa (rasa_core) apenas a parte de interpretação de mensagens (rasa_nlu).\n",
    "\n",
    "* O comando `train-nlu` do Makefile executa o treinamento apenas do `rasa_nlu`"
   ]
  },
  {
   "cell_type": "code",
   "execution_count": 12,
   "metadata": {},
   "outputs": [
    {
     "name": "stdout",
     "output_type": "stream",
     "text": [
      "intents  stories\r\n"
     ]
    }
   ],
   "source": [
    "!ls ../../coach/data"
   ]
  },
  {
   "cell_type": "code",
   "execution_count": 13,
   "metadata": {
    "scrolled": false
   },
   "outputs": [
    {
     "name": "stdout",
     "output_type": "stream",
     "text": [
      "/usr/local/lib/python3.6/site-packages/tensorflow/python/framework/dtypes.py:526: FutureWarning: Passing (type, 1) or '1type' as a synonym of type is deprecated; in a future version of numpy, it will be understood as (type, (1,)) / '(1,)type'.\n",
      "  _np_qint8 = np.dtype([(\"qint8\", np.int8, 1)])\n",
      "/usr/local/lib/python3.6/site-packages/tensorflow/python/framework/dtypes.py:527: FutureWarning: Passing (type, 1) or '1type' as a synonym of type is deprecated; in a future version of numpy, it will be understood as (type, (1,)) / '(1,)type'.\n",
      "  _np_quint8 = np.dtype([(\"quint8\", np.uint8, 1)])\n",
      "/usr/local/lib/python3.6/site-packages/tensorflow/python/framework/dtypes.py:528: FutureWarning: Passing (type, 1) or '1type' as a synonym of type is deprecated; in a future version of numpy, it will be understood as (type, (1,)) / '(1,)type'.\n",
      "  _np_qint16 = np.dtype([(\"qint16\", np.int16, 1)])\n",
      "/usr/local/lib/python3.6/site-packages/tensorflow/python/framework/dtypes.py:529: FutureWarning: Passing (type, 1) or '1type' as a synonym of type is deprecated; in a future version of numpy, it will be understood as (type, (1,)) / '(1,)type'.\n",
      "  _np_quint16 = np.dtype([(\"quint16\", np.uint16, 1)])\n",
      "/usr/local/lib/python3.6/site-packages/tensorflow/python/framework/dtypes.py:530: FutureWarning: Passing (type, 1) or '1type' as a synonym of type is deprecated; in a future version of numpy, it will be understood as (type, (1,)) / '(1,)type'.\n",
      "  _np_qint32 = np.dtype([(\"qint32\", np.int32, 1)])\n",
      "/usr/local/lib/python3.6/site-packages/tensorflow/python/framework/dtypes.py:535: FutureWarning: Passing (type, 1) or '1type' as a synonym of type is deprecated; in a future version of numpy, it will be understood as (type, (1,)) / '(1,)type'.\n",
      "  np_resource = np.dtype([(\"resource\", np.ubyte, 1)])\n",
      "\u001b[94mTraining NLU model...\u001b[0m\n",
      "2019-09-27 11:35:44 \u001b[1;30mINFO    \u001b[0m \u001b[34mrasa.nlu.training_data.training_data\u001b[0m  - Training data stats: \n",
      "\t- intent examples: 589 (37 distinct intents)\n",
      "\t- Found intents: 'o_que_sei_falar', 'out_of_scope', 'cumprimentar', 'religiao', 'time', 'botao', 'diga_mais', 'onde_voce_mora', 'negar', 'hobby', 'negar_despedir', 'signo', 'afirmacao_botao', 'elogios', 'playlist', 'filhos', 'star_wars', 'relationship', 'license', 'me', 'tudo_bem', 'comida', 'negacao_botao', 'linguagens', 'bff', 'risada', 'como_estou', 'cor', 'action_test', 'de_onde_voce_eh', 'despedir', 'historia', 'genero', 'piada', 'filme', 'triste', 'esporte'\n",
      "\t- entity examples: 173 (22 distinct entities)\n",
      "\t- found entities: 'religiao', 'hobby', 'signo', 'playlist', 'starwars', 'filhos', 'relationship', 'license', 'me', 'how', 'comida', 'linguagens', 'bff', 'cor', 'where', 'live', 'historia', 'genero', 'piada', 'filme', 'triste', 'esporte'\n",
      "\n",
      "/usr/local/lib/python3.6/site-packages/rasa/nlu/training_data/training_data.py:199: UserWarning: Intent 'afirmacao_botao' has only 1 training examples! Minimum is 2, training may fail.\n",
      "  intent, count, self.MIN_EXAMPLES_PER_INTENT\n",
      "/usr/local/lib/python3.6/site-packages/rasa/nlu/training_data/training_data.py:199: UserWarning: Intent 'negacao_botao' has only 1 training examples! Minimum is 2, training may fail.\n",
      "  intent, count, self.MIN_EXAMPLES_PER_INTENT\n",
      "2019-09-27 11:35:44 \u001b[1;30mINFO    \u001b[0m \u001b[34mrasa.nlu.model\u001b[0m  - Starting to train component WhitespaceTokenizer\n",
      "2019-09-27 11:35:44 \u001b[1;30mINFO    \u001b[0m \u001b[34mrasa.nlu.model\u001b[0m  - Finished training component.\n",
      "2019-09-27 11:35:44 \u001b[1;30mINFO    \u001b[0m \u001b[34mrasa.nlu.model\u001b[0m  - Starting to train component CRFEntityExtractor\n",
      "2019-09-27 11:35:45 \u001b[1;30mINFO    \u001b[0m \u001b[34mrasa.nlu.model\u001b[0m  - Finished training component.\n",
      "2019-09-27 11:35:45 \u001b[1;30mINFO    \u001b[0m \u001b[34mrasa.nlu.model\u001b[0m  - Starting to train component EntitySynonymMapper\n",
      "2019-09-27 11:35:45 \u001b[1;30mINFO    \u001b[0m \u001b[34mrasa.nlu.model\u001b[0m  - Finished training component.\n",
      "2019-09-27 11:35:45 \u001b[1;30mINFO    \u001b[0m \u001b[34mrasa.nlu.model\u001b[0m  - Starting to train component CountVectorsFeaturizer\n",
      "2019-09-27 11:35:45 \u001b[1;30mINFO    \u001b[0m \u001b[34mrasa.nlu.model\u001b[0m  - Finished training component.\n",
      "2019-09-27 11:35:45 \u001b[1;30mINFO    \u001b[0m \u001b[34mrasa.nlu.model\u001b[0m  - Starting to train component EmbeddingIntentClassifier\n",
      "2019-09-27 11:35:47 \u001b[1;30mINFO    \u001b[0m \u001b[34mrasa.nlu.classifiers.embedding_intent_classifier\u001b[0m  - Accuracy is updated every 10 epochs\n",
      "Epochs: 100%|██████████| 300/300 [00:17<00:00, 16.70it/s, loss=0.069, acc=1.000]\n",
      "2019-09-27 11:36:05 \u001b[1;30mINFO    \u001b[0m \u001b[34mrasa.nlu.classifiers.embedding_intent_classifier\u001b[0m  - Finished training embedding classifier, loss=0.069, train accuracy=1.000\n",
      "2019-09-27 11:36:05 \u001b[1;30mINFO    \u001b[0m \u001b[34mrasa.nlu.model\u001b[0m  - Finished training component.\n",
      "2019-09-27 11:36:05 \u001b[1;30mINFO    \u001b[0m \u001b[34mrasa.nlu.model\u001b[0m  - Successfully saved model into '/tmp/tmpxlei392u/nlu'\n",
      "\u001b[94mNLU model training completed.\u001b[0m\n",
      "\u001b[92mYour Rasa model is trained and saved at '/work/notebooks/intents/models/nlu-20190927-113605.tar.gz'.\u001b[0m\n"
     ]
    }
   ],
   "source": [
    "!rasa train nlu --config ../../coach/nlu_config.yml --nlu ../../coach/data/intents/"
   ]
  },
  {
   "cell_type": "markdown",
   "metadata": {},
   "source": [
    "### Métodos de avaliação do chatbot\n",
    "\n",
    "* O Rasa fornece vários métodos de avaliação e validação das `intents`, para verificar como utiliza-los, cada método fornece um log, imagem, gráfico ou arquivo com dados relevantes para interpretação do chatbot."
   ]
  },
  {
   "cell_type": "markdown",
   "metadata": {},
   "source": [
    "* O comando `!python -m rasa_nlu.test` é a base para a avaliação do chatbot.\n",
    "\n",
    "* Na célula abaixo a flag `-h` foi utilizada para mostrar as funções e a forma de uso de cada uma delas, mude seus valores e flags para ter as informações desejadas na sua análise.\n",
    "\n",
    "* Atualmente o Rasa possui 2 modos, `evaluation` e `crossvalidation` que tem seções decicadas a eles neste jupyter notebook."
   ]
  },
  {
   "cell_type": "code",
   "execution_count": 20,
   "metadata": {
    "scrolled": true
   },
   "outputs": [
    {
     "name": "stdout",
     "output_type": "stream",
     "text": [
      "usage: rasa test nlu [-h] [-v] [-vv] [--quiet] [-m MODEL] [-u NLU]\r\n",
      "                     [--report [REPORT]] [--successes [SUCCESSES]]\r\n",
      "                     [--errors ERRORS] [--histogram HISTOGRAM]\r\n",
      "                     [--confmat CONFMAT] [-c CONFIG [CONFIG ...]]\r\n",
      "                     [--cross-validation] [-f FOLDS] [-r RUNS]\r\n",
      "                     [-p PERCENTAGES [PERCENTAGES ...]]\r\n",
      "\r\n",
      "optional arguments:\r\n",
      "  -h, --help            show this help message and exit\r\n",
      "  -m MODEL, --model MODEL\r\n",
      "                        Path to a trained Rasa model. If a directory is\r\n",
      "                        specified, it will use the latest model in this\r\n",
      "                        directory. (default: models)\r\n",
      "  -u NLU, --nlu NLU     File or folder containing your NLU data. (default:\r\n",
      "                        data)\r\n",
      "  --report [REPORT]     Output path to save the intent/entity metrics report.\r\n",
      "                        (default: None)\r\n",
      "  --successes [SUCCESSES]\r\n",
      "                        Output path to save successful predictions. (default:\r\n",
      "                        None)\r\n",
      "  --errors ERRORS       Output path to save model errors. (default:\r\n",
      "                        errors.json)\r\n",
      "  --histogram HISTOGRAM\r\n",
      "                        Output path for the confidence histogram. (default:\r\n",
      "                        hist.png)\r\n",
      "  --confmat CONFMAT     Output path for the confusion matrix plot. (default:\r\n",
      "                        confmat.png)\r\n",
      "  -c CONFIG [CONFIG ...], --config CONFIG [CONFIG ...]\r\n",
      "                        Model configuration file. If a single file is passed\r\n",
      "                        and cross validation mode is chosen, cross-validation\r\n",
      "                        is performed, if multiple configs or a folder of\r\n",
      "                        configs are passed, models will be trained and\r\n",
      "                        compared directly. (default: None)\r\n",
      "\r\n",
      "Python Logging Options:\r\n",
      "  -v, --verbose         Be verbose. Sets logging level to INFO. (default:\r\n",
      "                        None)\r\n",
      "  -vv, --debug          Print lots of debugging statements. Sets logging level\r\n",
      "                        to DEBUG. (default: None)\r\n",
      "  --quiet               Be quiet! Sets logging level to WARNING. (default:\r\n",
      "                        None)\r\n",
      "\r\n",
      "Cross Validation:\r\n",
      "  --cross-validation    Switch on cross validation mode. Any provided model\r\n",
      "                        will be ignored. (default: False)\r\n",
      "  -f FOLDS, --folds FOLDS\r\n",
      "                        Number of cross validation folds (cross validation\r\n",
      "                        only). (default: 10)\r\n",
      "\r\n",
      "Comparison Mode:\r\n",
      "  -r RUNS, --runs RUNS  Number of comparison runs to make. (default: 3)\r\n",
      "  -p PERCENTAGES [PERCENTAGES ...], --percentages PERCENTAGES [PERCENTAGES ...]\r\n",
      "                        Percentages of training data to exclude during\r\n",
      "                        comparison. (default: [0, 25, 50, 75])\r\n"
     ]
    }
   ],
   "source": [
    "!rasa test nlu -h"
   ]
  },
  {
   "cell_type": "markdown",
   "metadata": {},
   "source": [
    "### Evaluation"
   ]
  },
  {
   "cell_type": "markdown",
   "metadata": {},
   "source": [
    "* O comando abaixo gera informações relevates para a validação das `intents` são elas:\n",
    "    * Matriz de confusão\n",
    "    * Histograma\n",
    "    * Erros de intents"
   ]
  },
  {
   "cell_type": "code",
   "execution_count": 23,
   "metadata": {},
   "outputs": [
    {
     "name": "stdout",
     "output_type": "stream",
     "text": [
      "confmat.png  errors.json  hist.png  intents-analysis.ipynb  models\r\n"
     ]
    }
   ],
   "source": [
    "!ls"
   ]
  },
  {
   "cell_type": "code",
   "execution_count": 22,
   "metadata": {
    "scrolled": true
   },
   "outputs": [
    {
     "name": "stdout",
     "output_type": "stream",
     "text": [
      "rm: cannot remove 'erros.json': No such file or directory\n",
      "/usr/local/lib/python3.6/site-packages/tensorflow/python/framework/dtypes.py:526: FutureWarning: Passing (type, 1) or '1type' as a synonym of type is deprecated; in a future version of numpy, it will be understood as (type, (1,)) / '(1,)type'.\n",
      "  _np_qint8 = np.dtype([(\"qint8\", np.int8, 1)])\n",
      "/usr/local/lib/python3.6/site-packages/tensorflow/python/framework/dtypes.py:527: FutureWarning: Passing (type, 1) or '1type' as a synonym of type is deprecated; in a future version of numpy, it will be understood as (type, (1,)) / '(1,)type'.\n",
      "  _np_quint8 = np.dtype([(\"quint8\", np.uint8, 1)])\n",
      "/usr/local/lib/python3.6/site-packages/tensorflow/python/framework/dtypes.py:528: FutureWarning: Passing (type, 1) or '1type' as a synonym of type is deprecated; in a future version of numpy, it will be understood as (type, (1,)) / '(1,)type'.\n",
      "  _np_qint16 = np.dtype([(\"qint16\", np.int16, 1)])\n",
      "/usr/local/lib/python3.6/site-packages/tensorflow/python/framework/dtypes.py:529: FutureWarning: Passing (type, 1) or '1type' as a synonym of type is deprecated; in a future version of numpy, it will be understood as (type, (1,)) / '(1,)type'.\n",
      "  _np_quint16 = np.dtype([(\"quint16\", np.uint16, 1)])\n",
      "/usr/local/lib/python3.6/site-packages/tensorflow/python/framework/dtypes.py:530: FutureWarning: Passing (type, 1) or '1type' as a synonym of type is deprecated; in a future version of numpy, it will be understood as (type, (1,)) / '(1,)type'.\n",
      "  _np_qint32 = np.dtype([(\"qint32\", np.int32, 1)])\n",
      "/usr/local/lib/python3.6/site-packages/tensorflow/python/framework/dtypes.py:535: FutureWarning: Passing (type, 1) or '1type' as a synonym of type is deprecated; in a future version of numpy, it will be understood as (type, (1,)) / '(1,)type'.\n",
      "  np_resource = np.dtype([(\"resource\", np.ubyte, 1)])\n",
      "2019-09-27 11:41:23 \u001b[1;30mINFO    \u001b[0m \u001b[34mrasa.nlu.test\u001b[0m  - Running model for predictions:\n",
      "100%|████████████████████████████████████████| 589/589 [00:00<00:00, 917.16it/s]\n",
      "2019-09-27 11:41:23 \u001b[1;30mINFO    \u001b[0m \u001b[34mrasa.nlu.test\u001b[0m  - Intent evaluation results:\n",
      "2019-09-27 11:41:23 \u001b[1;30mINFO    \u001b[0m \u001b[34mrasa.nlu.test\u001b[0m  - Intent Evaluation: Only considering those 589 examples that have a defined intent out of 589 examples\n",
      "/usr/local/lib/python3.6/site-packages/sklearn/metrics/classification.py:1145: UndefinedMetricWarning: Recall and F-score are ill-defined and being set to 0.0 in labels with no true samples.\n",
      "  'recall', 'true', average, warn_for)\n",
      "/usr/local/lib/python3.6/site-packages/sklearn/metrics/classification.py:1145: UndefinedMetricWarning: F-score is ill-defined and being set to 0.0 in labels with no true samples.\n",
      "  'recall', 'true', average, warn_for)\n",
      "2019-09-27 11:41:23 \u001b[1;30mINFO    \u001b[0m \u001b[34mrasa.nlu.test\u001b[0m  - F1-Score:  0.9991303987742763\n",
      "2019-09-27 11:41:23 \u001b[1;30mINFO    \u001b[0m \u001b[34mrasa.nlu.test\u001b[0m  - Precision: 1.0\n",
      "2019-09-27 11:41:23 \u001b[1;30mINFO    \u001b[0m \u001b[34mrasa.nlu.test\u001b[0m  - Accuracy:  0.99830220713073\n",
      "2019-09-27 11:41:23 \u001b[1;30mINFO    \u001b[0m \u001b[34mrasa.nlu.test\u001b[0m  - Classification report: \n",
      "                 precision    recall  f1-score   support\n",
      "\n",
      "                      0.00      0.00      0.00         0\n",
      "    action_test       1.00      1.00      1.00         6\n",
      "afirmacao_botao       1.00      1.00      1.00         1\n",
      "            bff       1.00      1.00      1.00        15\n",
      "          botao       1.00      1.00      1.00         3\n",
      "         comida       1.00      1.00      1.00        16\n",
      "     como_estou       1.00      1.00      1.00        15\n",
      "            cor       1.00      1.00      1.00        13\n",
      "   cumprimentar       1.00      1.00      1.00        18\n",
      "de_onde_voce_eh       1.00      1.00      1.00        14\n",
      "       despedir       1.00      1.00      1.00        20\n",
      "      diga_mais       1.00      1.00      1.00         9\n",
      "        elogios       1.00      1.00      1.00        27\n",
      "        esporte       1.00      1.00      1.00        20\n",
      "         filhos       1.00      1.00      1.00        15\n",
      "          filme       1.00      1.00      1.00        13\n",
      "         genero       1.00      1.00      1.00        23\n",
      "       historia       1.00      1.00      1.00        15\n",
      "          hobby       1.00      1.00      1.00        19\n",
      "        license       1.00      1.00      1.00        15\n",
      "     linguagens       1.00      0.95      0.98        21\n",
      "             me       1.00      1.00      1.00        19\n",
      "  negacao_botao       1.00      1.00      1.00         1\n",
      "          negar       1.00      1.00      1.00        11\n",
      " negar_despedir       1.00      1.00      1.00        31\n",
      "o_que_sei_falar       1.00      1.00      1.00        17\n",
      " onde_voce_mora       1.00      1.00      1.00        14\n",
      "   out_of_scope       1.00      1.00      1.00        11\n",
      "          piada       1.00      1.00      1.00        12\n",
      "       playlist       1.00      1.00      1.00        18\n",
      "   relationship       1.00      1.00      1.00        28\n",
      "       religiao       1.00      1.00      1.00        24\n",
      "         risada       1.00      1.00      1.00        19\n",
      "          signo       1.00      1.00      1.00         9\n",
      "      star_wars       1.00      1.00      1.00        22\n",
      "           time       1.00      1.00      1.00        14\n",
      "         triste       1.00      1.00      1.00        18\n",
      "       tudo_bem       1.00      1.00      1.00        23\n",
      "\n",
      "      micro avg       1.00      1.00      1.00       589\n",
      "      macro avg       0.97      0.97      0.97       589\n",
      "   weighted avg       1.00      1.00      1.00       589\n",
      "\n",
      "2019-09-27 11:41:23 \u001b[1;30mINFO    \u001b[0m \u001b[34mrasa.nlu.test\u001b[0m  - Model prediction errors saved to errors.json.\n",
      "2019-09-27 11:41:24 \u001b[1;30mINFO    \u001b[0m \u001b[34mmatplotlib.font_manager\u001b[0m  - generated new fontManager\n",
      "2019-09-27 11:41:25 \u001b[1;30mINFO    \u001b[0m \u001b[34mrasa.nlu.test\u001b[0m  - Confusion matrix, without normalization: \n",
      "[[ 0  0  0 ...  0  0  0]\n",
      " [ 0  6  0 ...  0  0  0]\n",
      " [ 0  0  1 ...  0  0  0]\n",
      " ...\n",
      " [ 0  0  0 ... 14  0  0]\n",
      " [ 0  0  0 ...  0 18  0]\n",
      " [ 0  0  0 ...  0  0 23]]\n",
      "Figure(2000x2000)\n",
      "Figure(1000x1000)\n",
      "2019-09-27 11:41:29 \u001b[1;30mINFO    \u001b[0m \u001b[34mrasa.nlu.test\u001b[0m  - Entity evaluation results:\n",
      "2019-09-27 11:41:29 \u001b[1;30mINFO    \u001b[0m \u001b[34mrasa.nlu.test\u001b[0m  - Evaluation for entity extractor: CRFEntityExtractor \n",
      "2019-09-27 11:41:29 \u001b[1;30mINFO    \u001b[0m \u001b[34mrasa.nlu.test\u001b[0m  - F1-Score:  0.9838414578944666\n",
      "2019-09-27 11:41:29 \u001b[1;30mINFO    \u001b[0m \u001b[34mrasa.nlu.test\u001b[0m  - Precision: 0.9856499702361066\n",
      "2019-09-27 11:41:29 \u001b[1;30mINFO    \u001b[0m \u001b[34mrasa.nlu.test\u001b[0m  - Accuracy:  0.9850299401197605\n",
      "2019-09-27 11:41:29 \u001b[1;30mINFO    \u001b[0m \u001b[34mrasa.nlu.test\u001b[0m  - Classification report: \n",
      "              precision    recall  f1-score   support\n",
      "\n",
      "         bff       1.00      1.00      1.00        17\n",
      "      comida       1.00      1.00      1.00        17\n",
      "         cor       1.00      1.00      1.00        13\n",
      "     esporte       1.00      1.00      1.00         6\n",
      "      filhos       1.00      1.00      1.00        11\n",
      "       filme       0.80      1.00      0.89         4\n",
      "      genero       1.00      1.00      1.00        16\n",
      "    historia       1.00      0.83      0.91         6\n",
      "       hobby       1.00      0.45      0.62        11\n",
      "         how       1.00      0.88      0.93        24\n",
      "     license       1.00      0.86      0.92        14\n",
      "  linguagens       1.00      1.00      1.00        14\n",
      "        live       1.00      1.00      1.00        13\n",
      "          me       1.00      1.00      1.00         6\n",
      "   no_entity       0.99      1.00      0.99      1433\n",
      "       piada       0.78      1.00      0.88         7\n",
      "    playlist       0.88      1.00      0.93         7\n",
      "relationship       1.00      0.89      0.94         9\n",
      "    religiao       0.94      1.00      0.97        16\n",
      "       signo       1.00      1.00      1.00         3\n",
      "    starwars       1.00      0.69      0.82        13\n",
      "      triste       1.00      0.86      0.92         7\n",
      "       where       1.00      0.33      0.50         3\n",
      "\n",
      "   micro avg       0.99      0.99      0.99      1670\n",
      "   macro avg       0.97      0.90      0.92      1670\n",
      "weighted avg       0.99      0.99      0.98      1670\n",
      "\n"
     ]
    }
   ],
   "source": [
    "!rm erros.json\n",
    "# !python -m rasa_nlu.test -d $COACH_INTENTS_PATH -m $COACH_MODELS_NLU_PATH --mode evaluation\n",
    "!rasa test nlu --nlu ../../coach/data/intents/ --model ./models/"
   ]
  },
  {
   "cell_type": "markdown",
   "metadata": {},
   "source": [
    "#### Matriz de Confusão\n",
    "* A matriz de confusão mostra a correlação entre as intents.\n",
    "* A diagonal principal tem forte correlação pois mostra a relação de uma intent **com ela mesma**\n",
    "* O ideal é que não haja **nenhum valor** diferente de **0 fora da diagonal principal**.\n",
    "\n",
    "`Execute este notebook no Firefox para visualizar o PDF da matriz de confusão`"
   ]
  },
  {
   "cell_type": "code",
   "execution_count": 24,
   "metadata": {
    "scrolled": false
   },
   "outputs": [
    {
     "data": {
      "text/html": [
       "\n",
       "        <iframe\n",
       "            width=\"900\"\n",
       "            height=\"700\"\n",
       "            src=\"./confmat.png\"\n",
       "            frameborder=\"0\"\n",
       "            allowfullscreen\n",
       "        ></iframe>\n",
       "        "
      ],
      "text/plain": [
       "<IPython.lib.display.IFrame at 0x7f7e07ecaac8>"
      ]
     },
     "execution_count": 24,
     "metadata": {},
     "output_type": "execute_result"
    }
   ],
   "source": [
    "IFrame(src='./confmat.png', width=900, height=700)"
   ]
  },
  {
   "cell_type": "markdown",
   "metadata": {},
   "source": [
    "#### Erros\n",
    "* O arquivo `erros,json` mostra os erros encontrados. Este arquivo lista os mesmos erros mostrados na **matriz de confusão**, então caso ela fique muito grande, não se preocupe, pois você pode apenas procurar os erros no arquivo gerado.\n",
    "* Os erros mostrados são textos repetidos nos exemplos de diferrentes `intents`.\n",
    "* Caso o arquivo não seja gerado significa que não foram encontrados erros."
   ]
  },
  {
   "cell_type": "code",
   "execution_count": 25,
   "metadata": {
    "scrolled": true
   },
   "outputs": [
    {
     "name": "stdout",
     "output_type": "stream",
     "text": [
      "[\r\n",
      "  {\r\n",
      "    \"text\": \"e o c#\",\r\n",
      "    \"intent\": \"linguagens\",\r\n",
      "    \"intent_prediction\": {\r\n",
      "      \"name\": \"\",\r\n",
      "      \"confidence\": 0.0\r\n",
      "    }\r\n",
      "  }\r\n",
      "]"
     ]
    }
   ],
   "source": [
    "%cat errors.json"
   ]
  },
  {
   "cell_type": "markdown",
   "metadata": {},
   "source": [
    "#### Histograma\n",
    "\n",
    "* O histograma contém a distribuição da predições das `intents`"
   ]
  },
  {
   "cell_type": "code",
   "execution_count": 26,
   "metadata": {
    "scrolled": false
   },
   "outputs": [
    {
     "data": {
      "text/html": [
       "\n",
       "        <iframe\n",
       "            width=\"900\"\n",
       "            height=\"700\"\n",
       "            src=\"./hist.png\"\n",
       "            frameborder=\"0\"\n",
       "            allowfullscreen\n",
       "        ></iframe>\n",
       "        "
      ],
      "text/plain": [
       "<IPython.lib.display.IFrame at 0x7f7e07ea7630>"
      ]
     },
     "execution_count": 26,
     "metadata": {},
     "output_type": "execute_result"
    }
   ],
   "source": [
    "IFrame(src='./hist.png', width=900, height=700)"
   ]
  },
  {
   "cell_type": "markdown",
   "metadata": {},
   "source": [
    "## Referências:\n",
    "\n",
    "O Rasa está em constante evolução, alguns links úteis para a construção deste jupyter-notebook e para a análise das `intents` são:\n",
    "\n",
    "* [Evaluation](https://rasa.com/docs/nlu/evaluation/)"
   ]
  }
 ],
 "metadata": {
  "colab": {
   "collapsed_sections": [
    "y4miuS-TqYcn",
    "BBF6Nqi9scQE",
    "Fs3nOUzBsqrG",
    "5MnGuFRpzzBh"
   ],
   "default_view": {},
   "name": "Building a Simple Bot with Rasa Stack - Tutorial",
   "provenance": [
    {
     "file_id": "1GutDkDXmfU-nRzNH7Pxxx8YpdvLUw9LO",
     "timestamp": 1521183725373
    }
   ],
   "toc_visible": true,
   "version": "0.3.2",
   "views": {}
  },
  "kernelspec": {
   "display_name": "Python 3",
   "language": "python",
   "name": "python3"
  },
  "language_info": {
   "codemirror_mode": {
    "name": "ipython",
    "version": 3
   },
   "file_extension": ".py",
   "mimetype": "text/x-python",
   "name": "python",
   "nbconvert_exporter": "python",
   "pygments_lexer": "ipython3",
   "version": "3.6.9"
  }
 },
 "nbformat": 4,
 "nbformat_minor": 1
}
